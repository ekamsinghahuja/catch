{
 "cells": [
  {
   "cell_type": "markdown",
   "id": "d093036d",
   "metadata": {
    "papermill": {
     "duration": 0.032639,
     "end_time": "2023-07-03T17:44:26.562783",
     "exception": false,
     "start_time": "2023-07-03T17:44:26.530144",
     "status": "completed"
    },
    "tags": []
   },
   "source": [
    "# LOAN PREDICTOR NOTEBOOK\n",
    "\n",
    "# **Precision=1.0**\n",
    "# **Accuracy=0.938**\n",
    "\n",
    "![image](http://github.com/Paras-Roy/credit-ease/raw/main/logo.png)"
   ]
  },
  {
   "cell_type": "code",
   "execution_count": 1,
   "id": "d92081df",
   "metadata": {
    "execution": {
     "iopub.execute_input": "2023-07-03T17:44:26.626515Z",
     "iopub.status.busy": "2023-07-03T17:44:26.625852Z",
     "iopub.status.idle": "2023-07-03T17:44:26.815726Z",
     "shell.execute_reply": "2023-07-03T17:44:26.814631Z"
    },
    "papermill": {
     "duration": 0.224887,
     "end_time": "2023-07-03T17:44:26.818862",
     "exception": false,
     "start_time": "2023-07-03T17:44:26.593975",
     "status": "completed"
    },
    "tags": []
   },
   "outputs": [],
   "source": [
    "import pandas as pd\n",
    "import matplotlib.pyplot as plt\n",
    "import numpy as np\n",
    "data_original =  pd.read_csv(\"/Users/ekamsinghahuja/Desktop/catch/credit_risk_dataset.csv\") \n",
    "data = pd.read_csv(\"/Users/ekamsinghahuja/Desktop/catch/credit_risk_dataset.csv\") "
   ]
  },
  {
   "cell_type": "code",
   "execution_count": 2,
   "id": "14329e71",
   "metadata": {
    "execution": {
     "iopub.execute_input": "2023-07-03T17:44:26.883847Z",
     "iopub.status.busy": "2023-07-03T17:44:26.883407Z",
     "iopub.status.idle": "2023-07-03T17:44:26.922191Z",
     "shell.execute_reply": "2023-07-03T17:44:26.921324Z"
    },
    "papermill": {
     "duration": 0.074763,
     "end_time": "2023-07-03T17:44:26.925066",
     "exception": false,
     "start_time": "2023-07-03T17:44:26.850303",
     "status": "completed"
    },
    "tags": []
   },
   "outputs": [
    {
     "data": {
      "text/html": [
       "<div>\n",
       "<style scoped>\n",
       "    .dataframe tbody tr th:only-of-type {\n",
       "        vertical-align: middle;\n",
       "    }\n",
       "\n",
       "    .dataframe tbody tr th {\n",
       "        vertical-align: top;\n",
       "    }\n",
       "\n",
       "    .dataframe thead th {\n",
       "        text-align: right;\n",
       "    }\n",
       "</style>\n",
       "<table border=\"1\" class=\"dataframe\">\n",
       "  <thead>\n",
       "    <tr style=\"text-align: right;\">\n",
       "      <th></th>\n",
       "      <th>person_age</th>\n",
       "      <th>person_income</th>\n",
       "      <th>person_home_ownership</th>\n",
       "      <th>person_emp_length</th>\n",
       "      <th>loan_intent</th>\n",
       "      <th>loan_grade</th>\n",
       "      <th>loan_amnt</th>\n",
       "      <th>loan_int_rate</th>\n",
       "      <th>loan_status</th>\n",
       "      <th>loan_percent_income</th>\n",
       "      <th>cb_person_default_on_file</th>\n",
       "      <th>cb_person_cred_hist_length</th>\n",
       "    </tr>\n",
       "  </thead>\n",
       "  <tbody>\n",
       "    <tr>\n",
       "      <th>0</th>\n",
       "      <td>22</td>\n",
       "      <td>59000</td>\n",
       "      <td>RENT</td>\n",
       "      <td>123.0</td>\n",
       "      <td>PERSONAL</td>\n",
       "      <td>D</td>\n",
       "      <td>35000</td>\n",
       "      <td>16.02</td>\n",
       "      <td>1</td>\n",
       "      <td>0.59</td>\n",
       "      <td>Y</td>\n",
       "      <td>3</td>\n",
       "    </tr>\n",
       "    <tr>\n",
       "      <th>1</th>\n",
       "      <td>21</td>\n",
       "      <td>9600</td>\n",
       "      <td>OWN</td>\n",
       "      <td>5.0</td>\n",
       "      <td>EDUCATION</td>\n",
       "      <td>B</td>\n",
       "      <td>1000</td>\n",
       "      <td>11.14</td>\n",
       "      <td>0</td>\n",
       "      <td>0.10</td>\n",
       "      <td>N</td>\n",
       "      <td>2</td>\n",
       "    </tr>\n",
       "    <tr>\n",
       "      <th>2</th>\n",
       "      <td>25</td>\n",
       "      <td>9600</td>\n",
       "      <td>MORTGAGE</td>\n",
       "      <td>1.0</td>\n",
       "      <td>MEDICAL</td>\n",
       "      <td>C</td>\n",
       "      <td>5500</td>\n",
       "      <td>12.87</td>\n",
       "      <td>1</td>\n",
       "      <td>0.57</td>\n",
       "      <td>N</td>\n",
       "      <td>3</td>\n",
       "    </tr>\n",
       "    <tr>\n",
       "      <th>3</th>\n",
       "      <td>23</td>\n",
       "      <td>65500</td>\n",
       "      <td>RENT</td>\n",
       "      <td>4.0</td>\n",
       "      <td>MEDICAL</td>\n",
       "      <td>C</td>\n",
       "      <td>35000</td>\n",
       "      <td>15.23</td>\n",
       "      <td>1</td>\n",
       "      <td>0.53</td>\n",
       "      <td>N</td>\n",
       "      <td>2</td>\n",
       "    </tr>\n",
       "    <tr>\n",
       "      <th>4</th>\n",
       "      <td>24</td>\n",
       "      <td>54400</td>\n",
       "      <td>RENT</td>\n",
       "      <td>8.0</td>\n",
       "      <td>MEDICAL</td>\n",
       "      <td>C</td>\n",
       "      <td>35000</td>\n",
       "      <td>14.27</td>\n",
       "      <td>1</td>\n",
       "      <td>0.55</td>\n",
       "      <td>Y</td>\n",
       "      <td>4</td>\n",
       "    </tr>\n",
       "  </tbody>\n",
       "</table>\n",
       "</div>"
      ],
      "text/plain": [
       "   person_age  person_income person_home_ownership  person_emp_length  \\\n",
       "0          22          59000                  RENT              123.0   \n",
       "1          21           9600                   OWN                5.0   \n",
       "2          25           9600              MORTGAGE                1.0   \n",
       "3          23          65500                  RENT                4.0   \n",
       "4          24          54400                  RENT                8.0   \n",
       "\n",
       "  loan_intent loan_grade  loan_amnt  loan_int_rate  loan_status  \\\n",
       "0    PERSONAL          D      35000          16.02            1   \n",
       "1   EDUCATION          B       1000          11.14            0   \n",
       "2     MEDICAL          C       5500          12.87            1   \n",
       "3     MEDICAL          C      35000          15.23            1   \n",
       "4     MEDICAL          C      35000          14.27            1   \n",
       "\n",
       "   loan_percent_income cb_person_default_on_file  cb_person_cred_hist_length  \n",
       "0                 0.59                         Y                           3  \n",
       "1                 0.10                         N                           2  \n",
       "2                 0.57                         N                           3  \n",
       "3                 0.53                         N                           2  \n",
       "4                 0.55                         Y                           4  "
      ]
     },
     "execution_count": 2,
     "metadata": {},
     "output_type": "execute_result"
    }
   ],
   "source": [
    "data.head()"
   ]
  },
  {
   "cell_type": "code",
   "execution_count": 3,
   "id": "5ab519a9",
   "metadata": {
    "execution": {
     "iopub.execute_input": "2023-07-03T17:44:26.989668Z",
     "iopub.status.busy": "2023-07-03T17:44:26.989235Z",
     "iopub.status.idle": "2023-07-03T17:44:27.044466Z",
     "shell.execute_reply": "2023-07-03T17:44:27.042994Z"
    },
    "papermill": {
     "duration": 0.091166,
     "end_time": "2023-07-03T17:44:27.047180",
     "exception": false,
     "start_time": "2023-07-03T17:44:26.956014",
     "status": "completed"
    },
    "tags": []
   },
   "outputs": [
    {
     "data": {
      "text/html": [
       "<div>\n",
       "<style scoped>\n",
       "    .dataframe tbody tr th:only-of-type {\n",
       "        vertical-align: middle;\n",
       "    }\n",
       "\n",
       "    .dataframe tbody tr th {\n",
       "        vertical-align: top;\n",
       "    }\n",
       "\n",
       "    .dataframe thead th {\n",
       "        text-align: right;\n",
       "    }\n",
       "</style>\n",
       "<table border=\"1\" class=\"dataframe\">\n",
       "  <thead>\n",
       "    <tr style=\"text-align: right;\">\n",
       "      <th></th>\n",
       "      <th>person_age</th>\n",
       "      <th>person_income</th>\n",
       "      <th>person_emp_length</th>\n",
       "      <th>loan_amnt</th>\n",
       "      <th>loan_int_rate</th>\n",
       "      <th>loan_status</th>\n",
       "      <th>loan_percent_income</th>\n",
       "      <th>cb_person_cred_hist_length</th>\n",
       "    </tr>\n",
       "  </thead>\n",
       "  <tbody>\n",
       "    <tr>\n",
       "      <th>count</th>\n",
       "      <td>32581.000000</td>\n",
       "      <td>3.258100e+04</td>\n",
       "      <td>31686.000000</td>\n",
       "      <td>32581.000000</td>\n",
       "      <td>29465.000000</td>\n",
       "      <td>32581.000000</td>\n",
       "      <td>32581.000000</td>\n",
       "      <td>32581.000000</td>\n",
       "    </tr>\n",
       "    <tr>\n",
       "      <th>mean</th>\n",
       "      <td>27.734600</td>\n",
       "      <td>6.607485e+04</td>\n",
       "      <td>4.789686</td>\n",
       "      <td>9589.371106</td>\n",
       "      <td>11.011695</td>\n",
       "      <td>0.218164</td>\n",
       "      <td>0.170203</td>\n",
       "      <td>5.804211</td>\n",
       "    </tr>\n",
       "    <tr>\n",
       "      <th>std</th>\n",
       "      <td>6.348078</td>\n",
       "      <td>6.198312e+04</td>\n",
       "      <td>4.142630</td>\n",
       "      <td>6322.086646</td>\n",
       "      <td>3.240459</td>\n",
       "      <td>0.413006</td>\n",
       "      <td>0.106782</td>\n",
       "      <td>4.055001</td>\n",
       "    </tr>\n",
       "    <tr>\n",
       "      <th>min</th>\n",
       "      <td>20.000000</td>\n",
       "      <td>4.000000e+03</td>\n",
       "      <td>0.000000</td>\n",
       "      <td>500.000000</td>\n",
       "      <td>5.420000</td>\n",
       "      <td>0.000000</td>\n",
       "      <td>0.000000</td>\n",
       "      <td>2.000000</td>\n",
       "    </tr>\n",
       "    <tr>\n",
       "      <th>25%</th>\n",
       "      <td>23.000000</td>\n",
       "      <td>3.850000e+04</td>\n",
       "      <td>2.000000</td>\n",
       "      <td>5000.000000</td>\n",
       "      <td>7.900000</td>\n",
       "      <td>0.000000</td>\n",
       "      <td>0.090000</td>\n",
       "      <td>3.000000</td>\n",
       "    </tr>\n",
       "    <tr>\n",
       "      <th>50%</th>\n",
       "      <td>26.000000</td>\n",
       "      <td>5.500000e+04</td>\n",
       "      <td>4.000000</td>\n",
       "      <td>8000.000000</td>\n",
       "      <td>10.990000</td>\n",
       "      <td>0.000000</td>\n",
       "      <td>0.150000</td>\n",
       "      <td>4.000000</td>\n",
       "    </tr>\n",
       "    <tr>\n",
       "      <th>75%</th>\n",
       "      <td>30.000000</td>\n",
       "      <td>7.920000e+04</td>\n",
       "      <td>7.000000</td>\n",
       "      <td>12200.000000</td>\n",
       "      <td>13.470000</td>\n",
       "      <td>0.000000</td>\n",
       "      <td>0.230000</td>\n",
       "      <td>8.000000</td>\n",
       "    </tr>\n",
       "    <tr>\n",
       "      <th>max</th>\n",
       "      <td>144.000000</td>\n",
       "      <td>6.000000e+06</td>\n",
       "      <td>123.000000</td>\n",
       "      <td>35000.000000</td>\n",
       "      <td>23.220000</td>\n",
       "      <td>1.000000</td>\n",
       "      <td>0.830000</td>\n",
       "      <td>30.000000</td>\n",
       "    </tr>\n",
       "  </tbody>\n",
       "</table>\n",
       "</div>"
      ],
      "text/plain": [
       "         person_age  person_income  person_emp_length     loan_amnt  \\\n",
       "count  32581.000000   3.258100e+04       31686.000000  32581.000000   \n",
       "mean      27.734600   6.607485e+04           4.789686   9589.371106   \n",
       "std        6.348078   6.198312e+04           4.142630   6322.086646   \n",
       "min       20.000000   4.000000e+03           0.000000    500.000000   \n",
       "25%       23.000000   3.850000e+04           2.000000   5000.000000   \n",
       "50%       26.000000   5.500000e+04           4.000000   8000.000000   \n",
       "75%       30.000000   7.920000e+04           7.000000  12200.000000   \n",
       "max      144.000000   6.000000e+06         123.000000  35000.000000   \n",
       "\n",
       "       loan_int_rate   loan_status  loan_percent_income  \\\n",
       "count   29465.000000  32581.000000         32581.000000   \n",
       "mean       11.011695      0.218164             0.170203   \n",
       "std         3.240459      0.413006             0.106782   \n",
       "min         5.420000      0.000000             0.000000   \n",
       "25%         7.900000      0.000000             0.090000   \n",
       "50%        10.990000      0.000000             0.150000   \n",
       "75%        13.470000      0.000000             0.230000   \n",
       "max        23.220000      1.000000             0.830000   \n",
       "\n",
       "       cb_person_cred_hist_length  \n",
       "count                32581.000000  \n",
       "mean                     5.804211  \n",
       "std                      4.055001  \n",
       "min                      2.000000  \n",
       "25%                      3.000000  \n",
       "50%                      4.000000  \n",
       "75%                      8.000000  \n",
       "max                     30.000000  "
      ]
     },
     "execution_count": 3,
     "metadata": {},
     "output_type": "execute_result"
    }
   ],
   "source": [
    "data.describe()"
   ]
  },
  {
   "cell_type": "code",
   "execution_count": 4,
   "id": "8469c738",
   "metadata": {
    "execution": {
     "iopub.execute_input": "2023-07-03T17:44:27.112905Z",
     "iopub.status.busy": "2023-07-03T17:44:27.112097Z",
     "iopub.status.idle": "2023-07-03T17:44:27.180784Z",
     "shell.execute_reply": "2023-07-03T17:44:27.179412Z"
    },
    "papermill": {
     "duration": 0.104907,
     "end_time": "2023-07-03T17:44:27.184727",
     "exception": false,
     "start_time": "2023-07-03T17:44:27.079820",
     "status": "completed"
    },
    "tags": []
   },
   "outputs": [
    {
     "name": "stdout",
     "output_type": "stream",
     "text": [
      "<class 'pandas.core.frame.DataFrame'>\n",
      "RangeIndex: 32581 entries, 0 to 32580\n",
      "Data columns (total 12 columns):\n",
      " #   Column                      Non-Null Count  Dtype  \n",
      "---  ------                      --------------  -----  \n",
      " 0   person_age                  32581 non-null  int64  \n",
      " 1   person_income               32581 non-null  int64  \n",
      " 2   person_home_ownership       32581 non-null  object \n",
      " 3   person_emp_length           31686 non-null  float64\n",
      " 4   loan_intent                 32581 non-null  object \n",
      " 5   loan_grade                  32581 non-null  object \n",
      " 6   loan_amnt                   32581 non-null  int64  \n",
      " 7   loan_int_rate               29465 non-null  float64\n",
      " 8   loan_status                 32581 non-null  int64  \n",
      " 9   loan_percent_income         32581 non-null  float64\n",
      " 10  cb_person_default_on_file   32581 non-null  object \n",
      " 11  cb_person_cred_hist_length  32581 non-null  int64  \n",
      "dtypes: float64(3), int64(5), object(4)\n",
      "memory usage: 3.0+ MB\n"
     ]
    }
   ],
   "source": [
    "data.info()"
   ]
  },
  {
   "cell_type": "markdown",
   "id": "16e6e07b",
   "metadata": {
    "papermill": {
     "duration": 0.030396,
     "end_time": "2023-07-03T17:44:27.245626",
     "exception": false,
     "start_time": "2023-07-03T17:44:27.215230",
     "status": "completed"
    },
    "tags": []
   },
   "source": [
    "# Dealing with Null Values"
   ]
  },
  {
   "cell_type": "code",
   "execution_count": 5,
   "id": "256a83af",
   "metadata": {
    "execution": {
     "iopub.execute_input": "2023-07-03T17:44:27.307700Z",
     "iopub.status.busy": "2023-07-03T17:44:27.307277Z",
     "iopub.status.idle": "2023-07-03T17:44:27.362927Z",
     "shell.execute_reply": "2023-07-03T17:44:27.361666Z"
    },
    "papermill": {
     "duration": 0.089863,
     "end_time": "2023-07-03T17:44:27.365586",
     "exception": false,
     "start_time": "2023-07-03T17:44:27.275723",
     "status": "completed"
    },
    "tags": []
   },
   "outputs": [
    {
     "data": {
      "text/plain": [
       "person_age                       0\n",
       "person_income                    0\n",
       "person_home_ownership            0\n",
       "person_emp_length              895\n",
       "loan_intent                      0\n",
       "loan_grade                       0\n",
       "loan_amnt                        0\n",
       "loan_int_rate                 3116\n",
       "loan_status                      0\n",
       "loan_percent_income              0\n",
       "cb_person_default_on_file        0\n",
       "cb_person_cred_hist_length       0\n",
       "dtype: int64"
      ]
     },
     "execution_count": 5,
     "metadata": {},
     "output_type": "execute_result"
    }
   ],
   "source": [
    "data.isnull().sum()"
   ]
  },
  {
   "cell_type": "code",
   "execution_count": 6,
   "id": "be44b2b9",
   "metadata": {
    "execution": {
     "iopub.execute_input": "2023-07-03T17:44:27.428814Z",
     "iopub.status.busy": "2023-07-03T17:44:27.428353Z",
     "iopub.status.idle": "2023-07-03T17:44:27.482924Z",
     "shell.execute_reply": "2023-07-03T17:44:27.481737Z"
    },
    "papermill": {
     "duration": 0.089625,
     "end_time": "2023-07-03T17:44:27.485912",
     "exception": false,
     "start_time": "2023-07-03T17:44:27.396287",
     "status": "completed"
    },
    "tags": []
   },
   "outputs": [],
   "source": [
    "# drop values that are null\n",
    "data.dropna(axis=0,inplace=True)"
   ]
  },
  {
   "cell_type": "code",
   "execution_count": 7,
   "id": "6622f91b",
   "metadata": {
    "execution": {
     "iopub.execute_input": "2023-07-03T17:44:27.555063Z",
     "iopub.status.busy": "2023-07-03T17:44:27.554213Z",
     "iopub.status.idle": "2023-07-03T17:44:27.599963Z",
     "shell.execute_reply": "2023-07-03T17:44:27.599029Z"
    },
    "papermill": {
     "duration": 0.082405,
     "end_time": "2023-07-03T17:44:27.602281",
     "exception": false,
     "start_time": "2023-07-03T17:44:27.519876",
     "status": "completed"
    },
    "tags": []
   },
   "outputs": [
    {
     "data": {
      "text/plain": [
       "person_age                    0\n",
       "person_income                 0\n",
       "person_home_ownership         0\n",
       "person_emp_length             0\n",
       "loan_intent                   0\n",
       "loan_grade                    0\n",
       "loan_amnt                     0\n",
       "loan_int_rate                 0\n",
       "loan_status                   0\n",
       "loan_percent_income           0\n",
       "cb_person_default_on_file     0\n",
       "cb_person_cred_hist_length    0\n",
       "dtype: int64"
      ]
     },
     "execution_count": 7,
     "metadata": {},
     "output_type": "execute_result"
    }
   ],
   "source": [
    "data.isnull().sum()"
   ]
  },
  {
   "cell_type": "code",
   "execution_count": 8,
   "id": "450c7e45",
   "metadata": {
    "execution": {
     "iopub.execute_input": "2023-07-03T17:44:27.668516Z",
     "iopub.status.busy": "2023-07-03T17:44:27.667897Z",
     "iopub.status.idle": "2023-07-03T17:44:27.676205Z",
     "shell.execute_reply": "2023-07-03T17:44:27.675154Z"
    },
    "papermill": {
     "duration": 0.045162,
     "end_time": "2023-07-03T17:44:27.678719",
     "exception": false,
     "start_time": "2023-07-03T17:44:27.633557",
     "status": "completed"
    },
    "tags": []
   },
   "outputs": [
    {
     "data": {
      "text/plain": [
       "0    22435\n",
       "1     6203\n",
       "Name: loan_status, dtype: int64"
      ]
     },
     "execution_count": 8,
     "metadata": {},
     "output_type": "execute_result"
    }
   ],
   "source": [
    "data['loan_status'].value_counts()"
   ]
  },
  {
   "cell_type": "markdown",
   "id": "4a8e44ac",
   "metadata": {
    "papermill": {
     "duration": 0.032584,
     "end_time": "2023-07-03T17:44:27.743305",
     "exception": false,
     "start_time": "2023-07-03T17:44:27.710721",
     "status": "completed"
    },
    "tags": []
   },
   "source": [
    "# Dealing with Outliers\n"
   ]
  },
  {
   "cell_type": "code",
   "execution_count": 9,
   "id": "930c1f1f",
   "metadata": {
    "execution": {
     "iopub.execute_input": "2023-07-03T17:44:27.812032Z",
     "iopub.status.busy": "2023-07-03T17:44:27.811425Z",
     "iopub.status.idle": "2023-07-03T17:44:27.860634Z",
     "shell.execute_reply": "2023-07-03T17:44:27.859299Z"
    },
    "papermill": {
     "duration": 0.088103,
     "end_time": "2023-07-03T17:44:27.863498",
     "exception": false,
     "start_time": "2023-07-03T17:44:27.775395",
     "status": "completed"
    },
    "tags": []
   },
   "outputs": [
    {
     "data": {
      "text/html": [
       "<div>\n",
       "<style scoped>\n",
       "    .dataframe tbody tr th:only-of-type {\n",
       "        vertical-align: middle;\n",
       "    }\n",
       "\n",
       "    .dataframe tbody tr th {\n",
       "        vertical-align: top;\n",
       "    }\n",
       "\n",
       "    .dataframe thead th {\n",
       "        text-align: right;\n",
       "    }\n",
       "</style>\n",
       "<table border=\"1\" class=\"dataframe\">\n",
       "  <thead>\n",
       "    <tr style=\"text-align: right;\">\n",
       "      <th></th>\n",
       "      <th>person_age</th>\n",
       "      <th>person_income</th>\n",
       "      <th>person_emp_length</th>\n",
       "      <th>loan_amnt</th>\n",
       "      <th>loan_int_rate</th>\n",
       "      <th>loan_status</th>\n",
       "      <th>loan_percent_income</th>\n",
       "      <th>cb_person_cred_hist_length</th>\n",
       "    </tr>\n",
       "  </thead>\n",
       "  <tbody>\n",
       "    <tr>\n",
       "      <th>count</th>\n",
       "      <td>28638.000000</td>\n",
       "      <td>2.863800e+04</td>\n",
       "      <td>28638.000000</td>\n",
       "      <td>28638.000000</td>\n",
       "      <td>28638.000000</td>\n",
       "      <td>28638.000000</td>\n",
       "      <td>28638.000000</td>\n",
       "      <td>28638.000000</td>\n",
       "    </tr>\n",
       "    <tr>\n",
       "      <th>mean</th>\n",
       "      <td>27.727216</td>\n",
       "      <td>6.664937e+04</td>\n",
       "      <td>4.788672</td>\n",
       "      <td>9656.493121</td>\n",
       "      <td>11.039867</td>\n",
       "      <td>0.216600</td>\n",
       "      <td>0.169488</td>\n",
       "      <td>5.793736</td>\n",
       "    </tr>\n",
       "    <tr>\n",
       "      <th>std</th>\n",
       "      <td>6.310441</td>\n",
       "      <td>6.235645e+04</td>\n",
       "      <td>4.154627</td>\n",
       "      <td>6329.683361</td>\n",
       "      <td>3.229372</td>\n",
       "      <td>0.411935</td>\n",
       "      <td>0.106393</td>\n",
       "      <td>4.038483</td>\n",
       "    </tr>\n",
       "    <tr>\n",
       "      <th>min</th>\n",
       "      <td>20.000000</td>\n",
       "      <td>4.000000e+03</td>\n",
       "      <td>0.000000</td>\n",
       "      <td>500.000000</td>\n",
       "      <td>5.420000</td>\n",
       "      <td>0.000000</td>\n",
       "      <td>0.000000</td>\n",
       "      <td>2.000000</td>\n",
       "    </tr>\n",
       "    <tr>\n",
       "      <th>25%</th>\n",
       "      <td>23.000000</td>\n",
       "      <td>3.948000e+04</td>\n",
       "      <td>2.000000</td>\n",
       "      <td>5000.000000</td>\n",
       "      <td>7.900000</td>\n",
       "      <td>0.000000</td>\n",
       "      <td>0.090000</td>\n",
       "      <td>3.000000</td>\n",
       "    </tr>\n",
       "    <tr>\n",
       "      <th>50%</th>\n",
       "      <td>26.000000</td>\n",
       "      <td>5.595600e+04</td>\n",
       "      <td>4.000000</td>\n",
       "      <td>8000.000000</td>\n",
       "      <td>10.990000</td>\n",
       "      <td>0.000000</td>\n",
       "      <td>0.150000</td>\n",
       "      <td>4.000000</td>\n",
       "    </tr>\n",
       "    <tr>\n",
       "      <th>75%</th>\n",
       "      <td>30.000000</td>\n",
       "      <td>8.000000e+04</td>\n",
       "      <td>7.000000</td>\n",
       "      <td>12500.000000</td>\n",
       "      <td>13.480000</td>\n",
       "      <td>0.000000</td>\n",
       "      <td>0.230000</td>\n",
       "      <td>8.000000</td>\n",
       "    </tr>\n",
       "    <tr>\n",
       "      <th>max</th>\n",
       "      <td>144.000000</td>\n",
       "      <td>6.000000e+06</td>\n",
       "      <td>123.000000</td>\n",
       "      <td>35000.000000</td>\n",
       "      <td>23.220000</td>\n",
       "      <td>1.000000</td>\n",
       "      <td>0.830000</td>\n",
       "      <td>30.000000</td>\n",
       "    </tr>\n",
       "  </tbody>\n",
       "</table>\n",
       "</div>"
      ],
      "text/plain": [
       "         person_age  person_income  person_emp_length     loan_amnt  \\\n",
       "count  28638.000000   2.863800e+04       28638.000000  28638.000000   \n",
       "mean      27.727216   6.664937e+04           4.788672   9656.493121   \n",
       "std        6.310441   6.235645e+04           4.154627   6329.683361   \n",
       "min       20.000000   4.000000e+03           0.000000    500.000000   \n",
       "25%       23.000000   3.948000e+04           2.000000   5000.000000   \n",
       "50%       26.000000   5.595600e+04           4.000000   8000.000000   \n",
       "75%       30.000000   8.000000e+04           7.000000  12500.000000   \n",
       "max      144.000000   6.000000e+06         123.000000  35000.000000   \n",
       "\n",
       "       loan_int_rate   loan_status  loan_percent_income  \\\n",
       "count   28638.000000  28638.000000         28638.000000   \n",
       "mean       11.039867      0.216600             0.169488   \n",
       "std         3.229372      0.411935             0.106393   \n",
       "min         5.420000      0.000000             0.000000   \n",
       "25%         7.900000      0.000000             0.090000   \n",
       "50%        10.990000      0.000000             0.150000   \n",
       "75%        13.480000      0.000000             0.230000   \n",
       "max        23.220000      1.000000             0.830000   \n",
       "\n",
       "       cb_person_cred_hist_length  \n",
       "count                28638.000000  \n",
       "mean                     5.793736  \n",
       "std                      4.038483  \n",
       "min                      2.000000  \n",
       "25%                      3.000000  \n",
       "50%                      4.000000  \n",
       "75%                      8.000000  \n",
       "max                     30.000000  "
      ]
     },
     "execution_count": 9,
     "metadata": {},
     "output_type": "execute_result"
    }
   ],
   "source": [
    "data.describe()"
   ]
  },
  {
   "cell_type": "code",
   "execution_count": 10,
   "id": "2b528618",
   "metadata": {
    "execution": {
     "iopub.execute_input": "2023-07-03T17:44:27.930291Z",
     "iopub.status.busy": "2023-07-03T17:44:27.929779Z",
     "iopub.status.idle": "2023-07-03T17:44:27.936926Z",
     "shell.execute_reply": "2023-07-03T17:44:27.935708Z"
    },
    "papermill": {
     "duration": 0.043129,
     "end_time": "2023-07-03T17:44:27.939493",
     "exception": false,
     "start_time": "2023-07-03T17:44:27.896364",
     "status": "completed"
    },
    "tags": []
   },
   "outputs": [],
   "source": [
    "#person_age max 144 (issue)\n",
    "#person_emp_length max 123 (issue)\n",
    "data.reset_index(inplace = True)"
   ]
  },
  {
   "cell_type": "code",
   "execution_count": 11,
   "id": "80256c27",
   "metadata": {
    "execution": {
     "iopub.execute_input": "2023-07-03T17:44:28.006134Z",
     "iopub.status.busy": "2023-07-03T17:44:28.005633Z",
     "iopub.status.idle": "2023-07-03T17:44:28.477932Z",
     "shell.execute_reply": "2023-07-03T17:44:28.476583Z"
    },
    "papermill": {
     "duration": 0.509456,
     "end_time": "2023-07-03T17:44:28.480676",
     "exception": false,
     "start_time": "2023-07-03T17:44:27.971220",
     "status": "completed"
    },
    "tags": []
   },
   "outputs": [
    {
     "data": {
      "text/plain": [
       "<BarContainer object of 57 artists>"
      ]
     },
     "execution_count": 11,
     "metadata": {},
     "output_type": "execute_result"
    },
    {
     "data": {
      "image/png": "[encoded data removed]",
      "text/plain": [
       "<Figure size 1500x500 with 1 Axes>"
      ]
     },
     "metadata": {},
     "output_type": "display_data"
    }
   ],
   "source": [
    "import matplotlib.pyplot as plt \n",
    "verti = data['person_age'].value_counts().values\n",
    "hori = data['person_age'].value_counts().index\n",
    "fig = plt.figure(figsize = (15, 5))\n",
    "plt.bar(hori, verti)\n",
    "# after 80 it is rare"
   ]
  },
  {
   "cell_type": "code",
   "execution_count": 12,
   "id": "c4e8c2cc",
   "metadata": {
    "execution": {
     "iopub.execute_input": "2023-07-03T17:44:28.547258Z",
     "iopub.status.busy": "2023-07-03T17:44:28.546740Z",
     "iopub.status.idle": "2023-07-03T17:44:28.556271Z",
     "shell.execute_reply": "2023-07-03T17:44:28.554999Z"
    },
    "papermill": {
     "duration": 0.046364,
     "end_time": "2023-07-03T17:44:28.559050",
     "exception": false,
     "start_time": "2023-07-03T17:44:28.512686",
     "status": "completed"
    },
    "tags": []
   },
   "outputs": [
    {
     "data": {
      "text/plain": [
       "25"
      ]
     },
     "execution_count": 12,
     "metadata": {},
     "output_type": "execute_result"
    }
   ],
   "source": [
    "(data['person_age'].value_counts().values>90).sum()\n",
    "# dropping rows that have age greater than 90"
   ]
  },
  {
   "cell_type": "code",
   "execution_count": 13,
   "id": "75486af4",
   "metadata": {
    "execution": {
     "iopub.execute_input": "2023-07-03T17:44:28.625954Z",
     "iopub.status.busy": "2023-07-03T17:44:28.624778Z",
     "iopub.status.idle": "2023-07-03T17:44:28.632878Z",
     "shell.execute_reply": "2023-07-03T17:44:28.631469Z"
    },
    "papermill": {
     "duration": 0.044177,
     "end_time": "2023-07-03T17:44:28.635255",
     "exception": false,
     "start_time": "2023-07-03T17:44:28.591078",
     "status": "completed"
    },
    "tags": []
   },
   "outputs": [
    {
     "name": "stdout",
     "output_type": "stream",
     "text": [
      "maximum 144\n",
      "minimum 20\n"
     ]
    }
   ],
   "source": [
    "max_ = data['person_age'].max()\n",
    "min_ = data['person_age'].min()\n",
    "print(f\"maximum {max_}\")\n",
    "print(f\"minimum {min_}\")"
   ]
  },
  {
   "cell_type": "code",
   "execution_count": 14,
   "id": "3aace7ee",
   "metadata": {
    "execution": {
     "iopub.execute_input": "2023-07-03T17:44:28.702530Z",
     "iopub.status.busy": "2023-07-03T17:44:28.701730Z",
     "iopub.status.idle": "2023-07-03T17:44:28.713014Z",
     "shell.execute_reply": "2023-07-03T17:44:28.711932Z"
    },
    "papermill": {
     "duration": 0.047919,
     "end_time": "2023-07-03T17:44:28.715696",
     "exception": false,
     "start_time": "2023-07-03T17:44:28.667777",
     "status": "completed"
    },
    "tags": []
   },
   "outputs": [],
   "source": [
    "data = data.drop(data[data['person_age'] > 80].index, axis=0)\n",
    "#dropping age above 80"
   ]
  },
  {
   "cell_type": "code",
   "execution_count": 15,
   "id": "a9511ee4",
   "metadata": {
    "execution": {
     "iopub.execute_input": "2023-07-03T17:44:28.782791Z",
     "iopub.status.busy": "2023-07-03T17:44:28.781965Z",
     "iopub.status.idle": "2023-07-03T17:44:28.796491Z",
     "shell.execute_reply": "2023-07-03T17:44:28.794963Z"
    },
    "papermill": {
     "duration": 0.05153,
     "end_time": "2023-07-03T17:44:28.799315",
     "exception": false,
     "start_time": "2023-07-03T17:44:28.747785",
     "status": "completed"
    },
    "tags": []
   },
   "outputs": [
    {
     "name": "stdout",
     "output_type": "stream",
     "text": [
      "There are 0 people with an age between 1 and 18.\n",
      "There are 15682 people with an age between 19 and 26.\n",
      "There are 10422 people with an age between 27 and 36.\n",
      "There are 2054 people with an age between 37 and 46.\n",
      "There are 372 people with an age between 47 and 56.\n",
      "There are 87 people with an age between 57 and 66.\n",
      "28633\n"
     ]
    }
   ],
   "source": [
    "# people with an age between x and y\n",
    "def age_group(arr):\n",
    "    lenarr = len(arr)\n",
    "    for i in range(0,lenarr-1):\n",
    "        next = arr[i]+1\n",
    "        num_people = data['person_age'].between(next,arr[i+1]).sum()\n",
    "        print(f'There are {num_people} people with an age between {next} and {arr[i+1]}.')\n",
    "        \n",
    "age_group([0 ,18, 26, 36, 46, 56, 66])\n",
    "\n",
    "print(data.shape[0])   \n"
   ]
  },
  {
   "cell_type": "code",
   "execution_count": 16,
   "id": "874d8f2b",
   "metadata": {
    "execution": {
     "iopub.execute_input": "2023-07-03T17:44:28.867560Z",
     "iopub.status.busy": "2023-07-03T17:44:28.866077Z",
     "iopub.status.idle": "2023-07-03T17:44:28.879166Z",
     "shell.execute_reply": "2023-07-03T17:44:28.877662Z"
    },
    "papermill": {
     "duration": 0.049764,
     "end_time": "2023-07-03T17:44:28.882184",
     "exception": false,
     "start_time": "2023-07-03T17:44:28.832420",
     "status": "completed"
    },
    "tags": []
   },
   "outputs": [],
   "source": [
    "data['age_group'] = pd.cut(data['person_age'],\n",
    "                           bins=[20, 26, 36, 46, 56, 66],\n",
    "                           labels=['20-25', '26-35', '36-45', '46-55', '56-65'])"
   ]
  },
  {
   "cell_type": "code",
   "execution_count": 17,
   "id": "e436be1f",
   "metadata": {
    "execution": {
     "iopub.execute_input": "2023-07-03T17:44:28.949147Z",
     "iopub.status.busy": "2023-07-03T17:44:28.948679Z",
     "iopub.status.idle": "2023-07-03T17:44:28.957483Z",
     "shell.execute_reply": "2023-07-03T17:44:28.956051Z"
    },
    "papermill": {
     "duration": 0.045314,
     "end_time": "2023-07-03T17:44:28.960190",
     "exception": false,
     "start_time": "2023-07-03T17:44:28.914876",
     "status": "completed"
    },
    "tags": []
   },
   "outputs": [
    {
     "data": {
      "text/plain": [
       "CategoricalDtype(categories=['20-25', '26-35', '36-45', '46-55', '56-65'], ordered=True)"
      ]
     },
     "execution_count": 17,
     "metadata": {},
     "output_type": "execute_result"
    }
   ],
   "source": [
    "data['age_group'].dtype"
   ]
  },
  {
   "cell_type": "code",
   "execution_count": 18,
   "id": "7237718a",
   "metadata": {
    "execution": {
     "iopub.execute_input": "2023-07-03T17:44:29.030223Z",
     "iopub.status.busy": "2023-07-03T17:44:29.028683Z",
     "iopub.status.idle": "2023-07-03T17:44:29.052796Z",
     "shell.execute_reply": "2023-07-03T17:44:29.051472Z"
    },
    "papermill": {
     "duration": 0.062215,
     "end_time": "2023-07-03T17:44:29.055313",
     "exception": false,
     "start_time": "2023-07-03T17:44:28.993098",
     "status": "completed"
    },
    "tags": []
   },
   "outputs": [
    {
     "data": {
      "text/html": [
       "<div>\n",
       "<style scoped>\n",
       "    .dataframe tbody tr th:only-of-type {\n",
       "        vertical-align: middle;\n",
       "    }\n",
       "\n",
       "    .dataframe tbody tr th {\n",
       "        vertical-align: top;\n",
       "    }\n",
       "\n",
       "    .dataframe thead th {\n",
       "        text-align: right;\n",
       "    }\n",
       "</style>\n",
       "<table border=\"1\" class=\"dataframe\">\n",
       "  <thead>\n",
       "    <tr style=\"text-align: right;\">\n",
       "      <th></th>\n",
       "      <th>index</th>\n",
       "      <th>person_age</th>\n",
       "      <th>person_income</th>\n",
       "      <th>person_home_ownership</th>\n",
       "      <th>person_emp_length</th>\n",
       "      <th>loan_intent</th>\n",
       "      <th>loan_grade</th>\n",
       "      <th>loan_amnt</th>\n",
       "      <th>loan_int_rate</th>\n",
       "      <th>loan_status</th>\n",
       "      <th>loan_percent_income</th>\n",
       "      <th>cb_person_default_on_file</th>\n",
       "      <th>cb_person_cred_hist_length</th>\n",
       "      <th>age_group</th>\n",
       "    </tr>\n",
       "  </thead>\n",
       "  <tbody>\n",
       "    <tr>\n",
       "      <th>0</th>\n",
       "      <td>0</td>\n",
       "      <td>22</td>\n",
       "      <td>59000</td>\n",
       "      <td>RENT</td>\n",
       "      <td>123.0</td>\n",
       "      <td>PERSONAL</td>\n",
       "      <td>D</td>\n",
       "      <td>35000</td>\n",
       "      <td>16.02</td>\n",
       "      <td>1</td>\n",
       "      <td>0.59</td>\n",
       "      <td>Y</td>\n",
       "      <td>3</td>\n",
       "      <td>20-25</td>\n",
       "    </tr>\n",
       "    <tr>\n",
       "      <th>1</th>\n",
       "      <td>1</td>\n",
       "      <td>21</td>\n",
       "      <td>9600</td>\n",
       "      <td>OWN</td>\n",
       "      <td>5.0</td>\n",
       "      <td>EDUCATION</td>\n",
       "      <td>B</td>\n",
       "      <td>1000</td>\n",
       "      <td>11.14</td>\n",
       "      <td>0</td>\n",
       "      <td>0.10</td>\n",
       "      <td>N</td>\n",
       "      <td>2</td>\n",
       "      <td>20-25</td>\n",
       "    </tr>\n",
       "    <tr>\n",
       "      <th>2</th>\n",
       "      <td>2</td>\n",
       "      <td>25</td>\n",
       "      <td>9600</td>\n",
       "      <td>MORTGAGE</td>\n",
       "      <td>1.0</td>\n",
       "      <td>MEDICAL</td>\n",
       "      <td>C</td>\n",
       "      <td>5500</td>\n",
       "      <td>12.87</td>\n",
       "      <td>1</td>\n",
       "      <td>0.57</td>\n",
       "      <td>N</td>\n",
       "      <td>3</td>\n",
       "      <td>20-25</td>\n",
       "    </tr>\n",
       "    <tr>\n",
       "      <th>3</th>\n",
       "      <td>3</td>\n",
       "      <td>23</td>\n",
       "      <td>65500</td>\n",
       "      <td>RENT</td>\n",
       "      <td>4.0</td>\n",
       "      <td>MEDICAL</td>\n",
       "      <td>C</td>\n",
       "      <td>35000</td>\n",
       "      <td>15.23</td>\n",
       "      <td>1</td>\n",
       "      <td>0.53</td>\n",
       "      <td>N</td>\n",
       "      <td>2</td>\n",
       "      <td>20-25</td>\n",
       "    </tr>\n",
       "    <tr>\n",
       "      <th>4</th>\n",
       "      <td>4</td>\n",
       "      <td>24</td>\n",
       "      <td>54400</td>\n",
       "      <td>RENT</td>\n",
       "      <td>8.0</td>\n",
       "      <td>MEDICAL</td>\n",
       "      <td>C</td>\n",
       "      <td>35000</td>\n",
       "      <td>14.27</td>\n",
       "      <td>1</td>\n",
       "      <td>0.55</td>\n",
       "      <td>Y</td>\n",
       "      <td>4</td>\n",
       "      <td>20-25</td>\n",
       "    </tr>\n",
       "  </tbody>\n",
       "</table>\n",
       "</div>"
      ],
      "text/plain": [
       "   index  person_age  person_income person_home_ownership  person_emp_length  \\\n",
       "0      0          22          59000                  RENT              123.0   \n",
       "1      1          21           9600                   OWN                5.0   \n",
       "2      2          25           9600              MORTGAGE                1.0   \n",
       "3      3          23          65500                  RENT                4.0   \n",
       "4      4          24          54400                  RENT                8.0   \n",
       "\n",
       "  loan_intent loan_grade  loan_amnt  loan_int_rate  loan_status  \\\n",
       "0    PERSONAL          D      35000          16.02            1   \n",
       "1   EDUCATION          B       1000          11.14            0   \n",
       "2     MEDICAL          C       5500          12.87            1   \n",
       "3     MEDICAL          C      35000          15.23            1   \n",
       "4     MEDICAL          C      35000          14.27            1   \n",
       "\n",
       "   loan_percent_income cb_person_default_on_file  cb_person_cred_hist_length  \\\n",
       "0                 0.59                         Y                           3   \n",
       "1                 0.10                         N                           2   \n",
       "2                 0.57                         N                           3   \n",
       "3                 0.53                         N                           2   \n",
       "4                 0.55                         Y                           4   \n",
       "\n",
       "  age_group  \n",
       "0     20-25  \n",
       "1     20-25  \n",
       "2     20-25  \n",
       "3     20-25  \n",
       "4     20-25  "
      ]
     },
     "execution_count": 18,
     "metadata": {},
     "output_type": "execute_result"
    }
   ],
   "source": [
    "data.head()"
   ]
  },
  {
   "cell_type": "code",
   "execution_count": 19,
   "id": "45ac5676",
   "metadata": {
    "execution": {
     "iopub.execute_input": "2023-07-03T17:44:29.124198Z",
     "iopub.status.busy": "2023-07-03T17:44:29.122680Z",
     "iopub.status.idle": "2023-07-03T17:44:29.130664Z",
     "shell.execute_reply": "2023-07-03T17:44:29.129645Z"
    },
    "papermill": {
     "duration": 0.045139,
     "end_time": "2023-07-03T17:44:29.133063",
     "exception": false,
     "start_time": "2023-07-03T17:44:29.087924",
     "status": "completed"
    },
    "tags": []
   },
   "outputs": [
    {
     "data": {
      "text/plain": [
       "(28633, 14)"
      ]
     },
     "execution_count": 19,
     "metadata": {},
     "output_type": "execute_result"
    }
   ],
   "source": [
    "data.shape"
   ]
  },
  {
   "cell_type": "markdown",
   "id": "3012d85f",
   "metadata": {
    "papermill": {
     "duration": 0.032209,
     "end_time": "2023-07-03T17:44:29.197870",
     "exception": false,
     "start_time": "2023-07-03T17:44:29.165661",
     "status": "completed"
    },
    "tags": []
   },
   "source": [
    "**Income Group**"
   ]
  },
  {
   "cell_type": "code",
   "execution_count": 20,
   "id": "87171522",
   "metadata": {
    "execution": {
     "iopub.execute_input": "2023-07-03T17:44:29.265622Z",
     "iopub.status.busy": "2023-07-03T17:44:29.264822Z",
     "iopub.status.idle": "2023-07-03T17:44:29.272121Z",
     "shell.execute_reply": "2023-07-03T17:44:29.270581Z"
    },
    "papermill": {
     "duration": 0.044078,
     "end_time": "2023-07-03T17:44:29.274412",
     "exception": false,
     "start_time": "2023-07-03T17:44:29.230334",
     "status": "completed"
    },
    "tags": []
   },
   "outputs": [
    {
     "name": "stdout",
     "output_type": "stream",
     "text": [
      "maximum 2039784\n",
      "minimum 4000\n"
     ]
    }
   ],
   "source": [
    "max_ = data['person_income'].max()\n",
    "min_ = data['person_income'].min()\n",
    "\n",
    "print(f\"maximum {max_}\")\n",
    "print(f\"minimum {min_}\")"
   ]
  },
  {
   "cell_type": "code",
   "execution_count": 21,
   "id": "e385b48d",
   "metadata": {
    "execution": {
     "iopub.execute_input": "2023-07-03T17:44:29.343283Z",
     "iopub.status.busy": "2023-07-03T17:44:29.342354Z",
     "iopub.status.idle": "2023-07-03T17:44:29.357214Z",
     "shell.execute_reply": "2023-07-03T17:44:29.355831Z"
    },
    "papermill": {
     "duration": 0.052436,
     "end_time": "2023-07-03T17:44:29.359709",
     "exception": false,
     "start_time": "2023-07-03T17:44:29.307273",
     "status": "completed"
    },
    "tags": []
   },
   "outputs": [
    {
     "name": "stdout",
     "output_type": "stream",
     "text": [
      "There are 1972 people with an income between 1 and 25000.\n",
      "There are 10198 people with an income between 25001 and 50000.\n",
      "There are 8532 people with an income between 50001 and 75000.\n",
      "There are 4197 people with an income between 75001 and 100000.\n",
      "There are 3734 people with an income between 100001 and inf.\n",
      "28633\n"
     ]
    }
   ],
   "source": [
    "# people with an income between x and y\n",
    "def income_group(arr):\n",
    "    lenarr = len(arr)\n",
    "    for i in range(0,lenarr-1):\n",
    "        next = arr[i]+1\n",
    "        num_people = data['person_income'].between(next,arr[i+1]).sum()\n",
    "        print(f'There are {num_people} people with an income between {next} and {arr[i+1]}.')\n",
    "        \n",
    "income_group([0, 25000, 50000, 75000, 100000,float('inf')])\n",
    "\n",
    "print(data.shape[0]) \n"
   ]
  },
  {
   "cell_type": "code",
   "execution_count": 22,
   "id": "730a1f50",
   "metadata": {
    "execution": {
     "iopub.execute_input": "2023-07-03T17:44:29.429422Z",
     "iopub.status.busy": "2023-07-03T17:44:29.428103Z",
     "iopub.status.idle": "2023-07-03T17:44:29.438391Z",
     "shell.execute_reply": "2023-07-03T17:44:29.437402Z"
    },
    "papermill": {
     "duration": 0.048293,
     "end_time": "2023-07-03T17:44:29.441002",
     "exception": false,
     "start_time": "2023-07-03T17:44:29.392709",
     "status": "completed"
    },
    "tags": []
   },
   "outputs": [],
   "source": [
    "data['income_group'] = pd.cut(data['person_income'],\n",
    "                              bins=[0, 25000, 50000, 75000, 100000, float('inf')],\n",
    "                              labels=['low', 'low-middle', 'middle', 'high-middle', 'high'])"
   ]
  },
  {
   "cell_type": "code",
   "execution_count": 23,
   "id": "db24517c",
   "metadata": {
    "execution": {
     "iopub.execute_input": "2023-07-03T17:44:29.509127Z",
     "iopub.status.busy": "2023-07-03T17:44:29.508519Z",
     "iopub.status.idle": "2023-07-03T17:44:29.518735Z",
     "shell.execute_reply": "2023-07-03T17:44:29.517653Z"
    },
    "papermill": {
     "duration": 0.04695,
     "end_time": "2023-07-03T17:44:29.520973",
     "exception": false,
     "start_time": "2023-07-03T17:44:29.474023",
     "status": "completed"
    },
    "tags": []
   },
   "outputs": [
    {
     "data": {
      "text/plain": [
       "0             middle\n",
       "1                low\n",
       "2                low\n",
       "3             middle\n",
       "4             middle\n",
       "            ...     \n",
       "28633         middle\n",
       "28634           high\n",
       "28635    high-middle\n",
       "28636           high\n",
       "28637     low-middle\n",
       "Name: income_group, Length: 28633, dtype: category\n",
       "Categories (5, object): ['low' < 'low-middle' < 'middle' < 'high-middle' < 'high']"
      ]
     },
     "execution_count": 23,
     "metadata": {},
     "output_type": "execute_result"
    }
   ],
   "source": [
    "data['income_group']"
   ]
  },
  {
   "cell_type": "markdown",
   "id": "0ffe5ec8",
   "metadata": {
    "papermill": {
     "duration": 0.032713,
     "end_time": "2023-07-03T17:44:29.586551",
     "exception": false,
     "start_time": "2023-07-03T17:44:29.553838",
     "status": "completed"
    },
    "tags": []
   },
   "source": [
    "**LOAN AMOUNT**"
   ]
  },
  {
   "cell_type": "code",
   "execution_count": 24,
   "id": "d6f8befa",
   "metadata": {
    "execution": {
     "iopub.execute_input": "2023-07-03T17:44:29.654665Z",
     "iopub.status.busy": "2023-07-03T17:44:29.654249Z",
     "iopub.status.idle": "2023-07-03T17:44:29.661306Z",
     "shell.execute_reply": "2023-07-03T17:44:29.659953Z"
    },
    "papermill": {
     "duration": 0.044621,
     "end_time": "2023-07-03T17:44:29.664107",
     "exception": false,
     "start_time": "2023-07-03T17:44:29.619486",
     "status": "completed"
    },
    "tags": []
   },
   "outputs": [
    {
     "name": "stdout",
     "output_type": "stream",
     "text": [
      "maximum 35000\n",
      "minimum 500\n"
     ]
    }
   ],
   "source": [
    "max_loan_amount = data['loan_amnt'].max()\n",
    "min_loan_amount = data['loan_amnt'].min()\n",
    "\n",
    "print(f\"maximum {max_loan_amount}\")\n",
    "print(f\"minimum {min_loan_amount}\")"
   ]
  },
  {
   "cell_type": "code",
   "execution_count": 25,
   "id": "a3578896",
   "metadata": {
    "execution": {
     "iopub.execute_input": "2023-07-03T17:44:29.732166Z",
     "iopub.status.busy": "2023-07-03T17:44:29.731475Z",
     "iopub.status.idle": "2023-07-03T17:44:29.743071Z",
     "shell.execute_reply": "2023-07-03T17:44:29.741062Z"
    },
    "papermill": {
     "duration": 0.048725,
     "end_time": "2023-07-03T17:44:29.745707",
     "exception": false,
     "start_time": "2023-07-03T17:44:29.696982",
     "status": "completed"
    },
    "tags": []
   },
   "outputs": [
    {
     "name": "stdout",
     "output_type": "stream",
     "text": [
      "There are 8182 people with an loan_amount between 1 and 5000.\n",
      "There are 10608 people with an loan_amount between 5001 and 10000.\n",
      "There are 5430 people with an loan_amount between 10001 and 15000.\n",
      "There are 4413 people with an loan_amount between 15001 and inf.\n",
      "28633\n"
     ]
    }
   ],
   "source": [
    "# people with an income between x and y\n",
    "def loan_amount_group(arr):\n",
    "    lenarr = len(arr)\n",
    "    for i in range(0,lenarr-1):\n",
    "        next = arr[i]+1\n",
    "        num_people = data['loan_amnt'].between(next,arr[i+1]).sum()\n",
    "        print(f'There are {num_people} people with an loan_amount between {next} and {arr[i+1]}.')\n",
    "        \n",
    "loan_amount_group([0, 5000, 10000, 15000, float('inf')])\n",
    "\n",
    "print(data.shape[0])   "
   ]
  },
  {
   "cell_type": "code",
   "execution_count": 26,
   "id": "19b33a7a",
   "metadata": {
    "execution": {
     "iopub.execute_input": "2023-07-03T17:44:29.817046Z",
     "iopub.status.busy": "2023-07-03T17:44:29.816546Z",
     "iopub.status.idle": "2023-07-03T17:44:29.827101Z",
     "shell.execute_reply": "2023-07-03T17:44:29.825811Z"
    },
    "papermill": {
     "duration": 0.048547,
     "end_time": "2023-07-03T17:44:29.829909",
     "exception": false,
     "start_time": "2023-07-03T17:44:29.781362",
     "status": "completed"
    },
    "tags": []
   },
   "outputs": [],
   "source": [
    "data['loan_amount_group'] = pd.cut(data['loan_amnt'],\n",
    "                                   bins=[0, 5000, 10000, 15000, float('inf')],\n",
    "                                   labels=['small', 'medium', 'large', 'very large'])"
   ]
  },
  {
   "cell_type": "code",
   "execution_count": 27,
   "id": "9eba55ef",
   "metadata": {
    "execution": {
     "iopub.execute_input": "2023-07-03T17:44:29.899837Z",
     "iopub.status.busy": "2023-07-03T17:44:29.898344Z",
     "iopub.status.idle": "2023-07-03T17:44:29.909071Z",
     "shell.execute_reply": "2023-07-03T17:44:29.908287Z"
    },
    "papermill": {
     "duration": 0.048132,
     "end_time": "2023-07-03T17:44:29.911459",
     "exception": false,
     "start_time": "2023-07-03T17:44:29.863327",
     "status": "completed"
    },
    "tags": []
   },
   "outputs": [
    {
     "data": {
      "text/plain": [
       "0        very large\n",
       "1             small\n",
       "2            medium\n",
       "3        very large\n",
       "4        very large\n",
       "            ...    \n",
       "28633        medium\n",
       "28634    very large\n",
       "28635    very large\n",
       "28636         large\n",
       "28637        medium\n",
       "Name: loan_amount_group, Length: 28633, dtype: category\n",
       "Categories (4, object): ['small' < 'medium' < 'large' < 'very large']"
      ]
     },
     "execution_count": 27,
     "metadata": {},
     "output_type": "execute_result"
    }
   ],
   "source": [
    "data['loan_amount_group']"
   ]
  },
  {
   "cell_type": "code",
   "execution_count": 28,
   "id": "b83abbec",
   "metadata": {
    "execution": {
     "iopub.execute_input": "2023-07-03T17:44:29.987475Z",
     "iopub.status.busy": "2023-07-03T17:44:29.986803Z",
     "iopub.status.idle": "2023-07-03T17:44:29.996421Z",
     "shell.execute_reply": "2023-07-03T17:44:29.995547Z"
    },
    "papermill": {
     "duration": 0.051221,
     "end_time": "2023-07-03T17:44:29.999254",
     "exception": false,
     "start_time": "2023-07-03T17:44:29.948033",
     "status": "completed"
    },
    "tags": []
   },
   "outputs": [],
   "source": [
    "data = data.drop(data[data['person_emp_length'] > 60].index, axis=0)"
   ]
  },
  {
   "cell_type": "code",
   "execution_count": 29,
   "id": "3feacfa3",
   "metadata": {
    "execution": {
     "iopub.execute_input": "2023-07-03T17:44:30.081975Z",
     "iopub.status.busy": "2023-07-03T17:44:30.081100Z",
     "iopub.status.idle": "2023-07-03T17:44:30.093258Z",
     "shell.execute_reply": "2023-07-03T17:44:30.092390Z"
    },
    "papermill": {
     "duration": 0.053344,
     "end_time": "2023-07-03T17:44:30.096310",
     "exception": false,
     "start_time": "2023-07-03T17:44:30.042966",
     "status": "completed"
    },
    "tags": []
   },
   "outputs": [],
   "source": [
    "data = data.drop(['index'], axis=1)\n",
    "data.reset_index(inplace = True)\n",
    "data = data.drop(['index'], axis=1)"
   ]
  },
  {
   "cell_type": "code",
   "execution_count": 30,
   "id": "3800b649",
   "metadata": {
    "execution": {
     "iopub.execute_input": "2023-07-03T17:44:30.170631Z",
     "iopub.status.busy": "2023-07-03T17:44:30.170196Z",
     "iopub.status.idle": "2023-07-03T17:44:30.192199Z",
     "shell.execute_reply": "2023-07-03T17:44:30.191411Z"
    },
    "papermill": {
     "duration": 0.060636,
     "end_time": "2023-07-03T17:44:30.194503",
     "exception": false,
     "start_time": "2023-07-03T17:44:30.133867",
     "status": "completed"
    },
    "tags": []
   },
   "outputs": [
    {
     "data": {
      "text/html": [
       "<div>\n",
       "<style scoped>\n",
       "    .dataframe tbody tr th:only-of-type {\n",
       "        vertical-align: middle;\n",
       "    }\n",
       "\n",
       "    .dataframe tbody tr th {\n",
       "        vertical-align: top;\n",
       "    }\n",
       "\n",
       "    .dataframe thead th {\n",
       "        text-align: right;\n",
       "    }\n",
       "</style>\n",
       "<table border=\"1\" class=\"dataframe\">\n",
       "  <thead>\n",
       "    <tr style=\"text-align: right;\">\n",
       "      <th></th>\n",
       "      <th>person_age</th>\n",
       "      <th>person_income</th>\n",
       "      <th>person_home_ownership</th>\n",
       "      <th>person_emp_length</th>\n",
       "      <th>loan_intent</th>\n",
       "      <th>loan_grade</th>\n",
       "      <th>loan_amnt</th>\n",
       "      <th>loan_int_rate</th>\n",
       "      <th>loan_status</th>\n",
       "      <th>loan_percent_income</th>\n",
       "      <th>cb_person_default_on_file</th>\n",
       "      <th>cb_person_cred_hist_length</th>\n",
       "      <th>age_group</th>\n",
       "      <th>income_group</th>\n",
       "      <th>loan_amount_group</th>\n",
       "    </tr>\n",
       "  </thead>\n",
       "  <tbody>\n",
       "    <tr>\n",
       "      <th>0</th>\n",
       "      <td>21</td>\n",
       "      <td>9600</td>\n",
       "      <td>OWN</td>\n",
       "      <td>5.0</td>\n",
       "      <td>EDUCATION</td>\n",
       "      <td>B</td>\n",
       "      <td>1000</td>\n",
       "      <td>11.14</td>\n",
       "      <td>0</td>\n",
       "      <td>0.10</td>\n",
       "      <td>N</td>\n",
       "      <td>2</td>\n",
       "      <td>20-25</td>\n",
       "      <td>low</td>\n",
       "      <td>small</td>\n",
       "    </tr>\n",
       "    <tr>\n",
       "      <th>1</th>\n",
       "      <td>25</td>\n",
       "      <td>9600</td>\n",
       "      <td>MORTGAGE</td>\n",
       "      <td>1.0</td>\n",
       "      <td>MEDICAL</td>\n",
       "      <td>C</td>\n",
       "      <td>5500</td>\n",
       "      <td>12.87</td>\n",
       "      <td>1</td>\n",
       "      <td>0.57</td>\n",
       "      <td>N</td>\n",
       "      <td>3</td>\n",
       "      <td>20-25</td>\n",
       "      <td>low</td>\n",
       "      <td>medium</td>\n",
       "    </tr>\n",
       "    <tr>\n",
       "      <th>2</th>\n",
       "      <td>23</td>\n",
       "      <td>65500</td>\n",
       "      <td>RENT</td>\n",
       "      <td>4.0</td>\n",
       "      <td>MEDICAL</td>\n",
       "      <td>C</td>\n",
       "      <td>35000</td>\n",
       "      <td>15.23</td>\n",
       "      <td>1</td>\n",
       "      <td>0.53</td>\n",
       "      <td>N</td>\n",
       "      <td>2</td>\n",
       "      <td>20-25</td>\n",
       "      <td>middle</td>\n",
       "      <td>very large</td>\n",
       "    </tr>\n",
       "    <tr>\n",
       "      <th>3</th>\n",
       "      <td>24</td>\n",
       "      <td>54400</td>\n",
       "      <td>RENT</td>\n",
       "      <td>8.0</td>\n",
       "      <td>MEDICAL</td>\n",
       "      <td>C</td>\n",
       "      <td>35000</td>\n",
       "      <td>14.27</td>\n",
       "      <td>1</td>\n",
       "      <td>0.55</td>\n",
       "      <td>Y</td>\n",
       "      <td>4</td>\n",
       "      <td>20-25</td>\n",
       "      <td>middle</td>\n",
       "      <td>very large</td>\n",
       "    </tr>\n",
       "    <tr>\n",
       "      <th>4</th>\n",
       "      <td>21</td>\n",
       "      <td>9900</td>\n",
       "      <td>OWN</td>\n",
       "      <td>2.0</td>\n",
       "      <td>VENTURE</td>\n",
       "      <td>A</td>\n",
       "      <td>2500</td>\n",
       "      <td>7.14</td>\n",
       "      <td>1</td>\n",
       "      <td>0.25</td>\n",
       "      <td>N</td>\n",
       "      <td>2</td>\n",
       "      <td>20-25</td>\n",
       "      <td>low</td>\n",
       "      <td>small</td>\n",
       "    </tr>\n",
       "  </tbody>\n",
       "</table>\n",
       "</div>"
      ],
      "text/plain": [
       "   person_age  person_income person_home_ownership  person_emp_length  \\\n",
       "0          21           9600                   OWN                5.0   \n",
       "1          25           9600              MORTGAGE                1.0   \n",
       "2          23          65500                  RENT                4.0   \n",
       "3          24          54400                  RENT                8.0   \n",
       "4          21           9900                   OWN                2.0   \n",
       "\n",
       "  loan_intent loan_grade  loan_amnt  loan_int_rate  loan_status  \\\n",
       "0   EDUCATION          B       1000          11.14            0   \n",
       "1     MEDICAL          C       5500          12.87            1   \n",
       "2     MEDICAL          C      35000          15.23            1   \n",
       "3     MEDICAL          C      35000          14.27            1   \n",
       "4     VENTURE          A       2500           7.14            1   \n",
       "\n",
       "   loan_percent_income cb_person_default_on_file  cb_person_cred_hist_length  \\\n",
       "0                 0.10                         N                           2   \n",
       "1                 0.57                         N                           3   \n",
       "2                 0.53                         N                           2   \n",
       "3                 0.55                         Y                           4   \n",
       "4                 0.25                         N                           2   \n",
       "\n",
       "  age_group income_group loan_amount_group  \n",
       "0     20-25          low             small  \n",
       "1     20-25          low            medium  \n",
       "2     20-25       middle        very large  \n",
       "3     20-25       middle        very large  \n",
       "4     20-25          low             small  "
      ]
     },
     "execution_count": 30,
     "metadata": {},
     "output_type": "execute_result"
    }
   ],
   "source": [
    "data.head()"
   ]
  },
  {
   "cell_type": "code",
   "execution_count": 31,
   "id": "8938e47c",
   "metadata": {
    "execution": {
     "iopub.execute_input": "2023-07-03T17:44:30.271677Z",
     "iopub.status.busy": "2023-07-03T17:44:30.270991Z",
     "iopub.status.idle": "2023-07-03T17:44:30.282576Z",
     "shell.execute_reply": "2023-07-03T17:44:30.281770Z"
    },
    "papermill": {
     "duration": 0.052659,
     "end_time": "2023-07-03T17:44:30.284875",
     "exception": false,
     "start_time": "2023-07-03T17:44:30.232216",
     "status": "completed"
    },
    "tags": []
   },
   "outputs": [
    {
     "data": {
      "text/plain": [
       "RENT        14548\n",
       "MORTGAGE    11797\n",
       "OWN          2192\n",
       "OTHER          94\n",
       "Name: person_home_ownership, dtype: int64"
      ]
     },
     "execution_count": 31,
     "metadata": {},
     "output_type": "execute_result"
    }
   ],
   "source": [
    "data['person_home_ownership'].value_counts()\n"
   ]
  },
  {
   "cell_type": "code",
   "execution_count": 32,
   "id": "75517096",
   "metadata": {
    "execution": {
     "iopub.execute_input": "2023-07-03T17:44:30.357713Z",
     "iopub.status.busy": "2023-07-03T17:44:30.357306Z",
     "iopub.status.idle": "2023-07-03T17:44:30.377570Z",
     "shell.execute_reply": "2023-07-03T17:44:30.376396Z"
    },
    "papermill": {
     "duration": 0.060141,
     "end_time": "2023-07-03T17:44:30.380400",
     "exception": false,
     "start_time": "2023-07-03T17:44:30.320259",
     "status": "completed"
    },
    "tags": []
   },
   "outputs": [
    {
     "data": {
      "text/html": [
       "<div>\n",
       "<style scoped>\n",
       "    .dataframe tbody tr th:only-of-type {\n",
       "        vertical-align: middle;\n",
       "    }\n",
       "\n",
       "    .dataframe tbody tr th {\n",
       "        vertical-align: top;\n",
       "    }\n",
       "\n",
       "    .dataframe thead th {\n",
       "        text-align: right;\n",
       "    }\n",
       "</style>\n",
       "<table border=\"1\" class=\"dataframe\">\n",
       "  <thead>\n",
       "    <tr style=\"text-align: right;\">\n",
       "      <th></th>\n",
       "      <th>person_age</th>\n",
       "      <th>person_income</th>\n",
       "      <th>person_home_ownership</th>\n",
       "      <th>person_emp_length</th>\n",
       "      <th>loan_intent</th>\n",
       "      <th>loan_grade</th>\n",
       "      <th>loan_amnt</th>\n",
       "      <th>loan_int_rate</th>\n",
       "      <th>loan_status</th>\n",
       "      <th>loan_percent_income</th>\n",
       "      <th>cb_person_default_on_file</th>\n",
       "      <th>cb_person_cred_hist_length</th>\n",
       "      <th>age_group</th>\n",
       "      <th>income_group</th>\n",
       "      <th>loan_amount_group</th>\n",
       "    </tr>\n",
       "  </thead>\n",
       "  <tbody>\n",
       "    <tr>\n",
       "      <th>0</th>\n",
       "      <td>21</td>\n",
       "      <td>9600</td>\n",
       "      <td>OWN</td>\n",
       "      <td>5.0</td>\n",
       "      <td>EDUCATION</td>\n",
       "      <td>B</td>\n",
       "      <td>1000</td>\n",
       "      <td>11.14</td>\n",
       "      <td>0</td>\n",
       "      <td>0.10</td>\n",
       "      <td>N</td>\n",
       "      <td>2</td>\n",
       "      <td>20-25</td>\n",
       "      <td>low</td>\n",
       "      <td>small</td>\n",
       "    </tr>\n",
       "    <tr>\n",
       "      <th>1</th>\n",
       "      <td>25</td>\n",
       "      <td>9600</td>\n",
       "      <td>MORTGAGE</td>\n",
       "      <td>1.0</td>\n",
       "      <td>MEDICAL</td>\n",
       "      <td>C</td>\n",
       "      <td>5500</td>\n",
       "      <td>12.87</td>\n",
       "      <td>1</td>\n",
       "      <td>0.57</td>\n",
       "      <td>N</td>\n",
       "      <td>3</td>\n",
       "      <td>20-25</td>\n",
       "      <td>low</td>\n",
       "      <td>medium</td>\n",
       "    </tr>\n",
       "    <tr>\n",
       "      <th>2</th>\n",
       "      <td>23</td>\n",
       "      <td>65500</td>\n",
       "      <td>RENT</td>\n",
       "      <td>4.0</td>\n",
       "      <td>MEDICAL</td>\n",
       "      <td>C</td>\n",
       "      <td>35000</td>\n",
       "      <td>15.23</td>\n",
       "      <td>1</td>\n",
       "      <td>0.53</td>\n",
       "      <td>N</td>\n",
       "      <td>2</td>\n",
       "      <td>20-25</td>\n",
       "      <td>middle</td>\n",
       "      <td>very large</td>\n",
       "    </tr>\n",
       "    <tr>\n",
       "      <th>3</th>\n",
       "      <td>24</td>\n",
       "      <td>54400</td>\n",
       "      <td>RENT</td>\n",
       "      <td>8.0</td>\n",
       "      <td>MEDICAL</td>\n",
       "      <td>C</td>\n",
       "      <td>35000</td>\n",
       "      <td>14.27</td>\n",
       "      <td>1</td>\n",
       "      <td>0.55</td>\n",
       "      <td>Y</td>\n",
       "      <td>4</td>\n",
       "      <td>20-25</td>\n",
       "      <td>middle</td>\n",
       "      <td>very large</td>\n",
       "    </tr>\n",
       "    <tr>\n",
       "      <th>4</th>\n",
       "      <td>21</td>\n",
       "      <td>9900</td>\n",
       "      <td>OWN</td>\n",
       "      <td>2.0</td>\n",
       "      <td>VENTURE</td>\n",
       "      <td>A</td>\n",
       "      <td>2500</td>\n",
       "      <td>7.14</td>\n",
       "      <td>1</td>\n",
       "      <td>0.25</td>\n",
       "      <td>N</td>\n",
       "      <td>2</td>\n",
       "      <td>20-25</td>\n",
       "      <td>low</td>\n",
       "      <td>small</td>\n",
       "    </tr>\n",
       "  </tbody>\n",
       "</table>\n",
       "</div>"
      ],
      "text/plain": [
       "   person_age  person_income person_home_ownership  person_emp_length  \\\n",
       "0          21           9600                   OWN                5.0   \n",
       "1          25           9600              MORTGAGE                1.0   \n",
       "2          23          65500                  RENT                4.0   \n",
       "3          24          54400                  RENT                8.0   \n",
       "4          21           9900                   OWN                2.0   \n",
       "\n",
       "  loan_intent loan_grade  loan_amnt  loan_int_rate  loan_status  \\\n",
       "0   EDUCATION          B       1000          11.14            0   \n",
       "1     MEDICAL          C       5500          12.87            1   \n",
       "2     MEDICAL          C      35000          15.23            1   \n",
       "3     MEDICAL          C      35000          14.27            1   \n",
       "4     VENTURE          A       2500           7.14            1   \n",
       "\n",
       "   loan_percent_income cb_person_default_on_file  cb_person_cred_hist_length  \\\n",
       "0                 0.10                         N                           2   \n",
       "1                 0.57                         N                           3   \n",
       "2                 0.53                         N                           2   \n",
       "3                 0.55                         Y                           4   \n",
       "4                 0.25                         N                           2   \n",
       "\n",
       "  age_group income_group loan_amount_group  \n",
       "0     20-25          low             small  \n",
       "1     20-25          low            medium  \n",
       "2     20-25       middle        very large  \n",
       "3     20-25       middle        very large  \n",
       "4     20-25          low             small  "
      ]
     },
     "execution_count": 32,
     "metadata": {},
     "output_type": "execute_result"
    }
   ],
   "source": [
    "data.head()"
   ]
  },
  {
   "cell_type": "markdown",
   "id": "3ee36549",
   "metadata": {
    "papermill": {
     "duration": 0.039637,
     "end_time": "2023-07-03T17:44:30.457142",
     "exception": false,
     "start_time": "2023-07-03T17:44:30.417505",
     "status": "completed"
    },
    "tags": []
   },
   "source": [
    "# "
   ]
  },
  {
   "cell_type": "code",
   "execution_count": 33,
   "id": "1a89fd95",
   "metadata": {
    "execution": {
     "iopub.execute_input": "2023-07-03T17:44:30.533664Z",
     "iopub.status.busy": "2023-07-03T17:44:30.533232Z",
     "iopub.status.idle": "2023-07-03T17:44:30.543256Z",
     "shell.execute_reply": "2023-07-03T17:44:30.542089Z"
    },
    "papermill": {
     "duration": 0.052708,
     "end_time": "2023-07-03T17:44:30.546430",
     "exception": false,
     "start_time": "2023-07-03T17:44:30.493722",
     "status": "completed"
    },
    "tags": []
   },
   "outputs": [],
   "source": [
    "# Create loan-to-income ratio\n",
    "data['loan_to_income_ratio'] = data['loan_amnt'] / data['person_income']\n",
    "\n",
    "# Create loan-to-employment length ratio\n",
    "data['loan_to_emp_length_ratio'] =  data['person_emp_length']/ data['loan_amnt'] \n",
    "\n",
    "# Create interest rate-to-loan amount ratio\n",
    "data['int_rate_to_loan_amt_ratio'] = data['loan_int_rate'] / data['loan_amnt']"
   ]
  },
  {
   "cell_type": "code",
   "execution_count": 34,
   "id": "c1903b82",
   "metadata": {
    "execution": {
     "iopub.execute_input": "2023-07-03T17:44:30.619937Z",
     "iopub.status.busy": "2023-07-03T17:44:30.619526Z",
     "iopub.status.idle": "2023-07-03T17:44:30.627086Z",
     "shell.execute_reply": "2023-07-03T17:44:30.626103Z"
    },
    "papermill": {
     "duration": 0.047139,
     "end_time": "2023-07-03T17:44:30.629569",
     "exception": false,
     "start_time": "2023-07-03T17:44:30.582430",
     "status": "completed"
    },
    "tags": []
   },
   "outputs": [
    {
     "data": {
      "text/plain": [
       "Index(['person_age', 'person_income', 'person_home_ownership',\n",
       "       'person_emp_length', 'loan_intent', 'loan_grade', 'loan_amnt',\n",
       "       'loan_int_rate', 'loan_status', 'loan_percent_income',\n",
       "       'cb_person_default_on_file', 'cb_person_cred_hist_length', 'age_group',\n",
       "       'income_group', 'loan_amount_group', 'loan_to_income_ratio',\n",
       "       'loan_to_emp_length_ratio', 'int_rate_to_loan_amt_ratio'],\n",
       "      dtype='object')"
      ]
     },
     "execution_count": 34,
     "metadata": {},
     "output_type": "execute_result"
    }
   ],
   "source": [
    "data.columns"
   ]
  },
  {
   "cell_type": "code",
   "execution_count": 35,
   "id": "8319ef22",
   "metadata": {
    "execution": {
     "iopub.execute_input": "2023-07-03T17:44:30.701309Z",
     "iopub.status.busy": "2023-07-03T17:44:30.700818Z",
     "iopub.status.idle": "2023-07-03T17:44:30.705757Z",
     "shell.execute_reply": "2023-07-03T17:44:30.704898Z"
    },
    "papermill": {
     "duration": 0.0436,
     "end_time": "2023-07-03T17:44:30.707893",
     "exception": false,
     "start_time": "2023-07-03T17:44:30.664293",
     "status": "completed"
    },
    "tags": []
   },
   "outputs": [],
   "source": [
    "raw_data = data"
   ]
  },
  {
   "cell_type": "markdown",
   "id": "fade9257",
   "metadata": {
    "papermill": {
     "duration": 0.037007,
     "end_time": "2023-07-03T17:44:30.781633",
     "exception": false,
     "start_time": "2023-07-03T17:44:30.744626",
     "status": "completed"
    },
    "tags": []
   },
   "source": [
    "# Feature Engineering"
   ]
  },
  {
   "cell_type": "code",
   "execution_count": 36,
   "id": "c1fae0b1",
   "metadata": {
    "execution": {
     "iopub.execute_input": "2023-07-03T17:44:30.854699Z",
     "iopub.status.busy": "2023-07-03T17:44:30.854215Z",
     "iopub.status.idle": "2023-07-03T17:44:30.862453Z",
     "shell.execute_reply": "2023-07-03T17:44:30.861055Z"
    },
    "papermill": {
     "duration": 0.047313,
     "end_time": "2023-07-03T17:44:30.864955",
     "exception": false,
     "start_time": "2023-07-03T17:44:30.817642",
     "status": "completed"
    },
    "tags": []
   },
   "outputs": [],
   "source": [
    "col_list = ['person_age',#\n",
    " 'person_income',#\n",
    " 'person_home_ownership',#\n",
    " 'person_emp_length',#\n",
    " 'loan_intent', #\n",
    " 'loan_grade',#\n",
    " 'loan_amnt',#\n",
    " 'loan_int_rate',#\n",
    " 'loan_status',#\n",
    " 'loan_percent_income',#\n",
    " 'cb_person_default_on_file',#\n",
    " 'cb_person_cred_hist_length',\n",
    "'age_group','income_group','loan_amount_group']\n",
    "\n",
    "drop_colums = []\n",
    "scale_cols = ['person_income','person_age','person_emp_length', 'loan_amnt','loan_int_rate','cb_person_cred_hist_length','loan_percent_income','loan_to_income_ratio', 'loan_to_emp_length_ratio',\n",
    "       'int_rate_to_loan_amt_ratio']\n",
    "ohe_colums = ['cb_person_default_on_file','loan_grade', 'person_home_ownership','loan_intent','income_group','age_group','loan_amount_group']\n",
    "le_colums = []"
   ]
  },
  {
   "cell_type": "code",
   "execution_count": 37,
   "id": "b0874333",
   "metadata": {
    "execution": {
     "iopub.execute_input": "2023-07-03T17:44:30.937248Z",
     "iopub.status.busy": "2023-07-03T17:44:30.936775Z",
     "iopub.status.idle": "2023-07-03T17:44:30.946646Z",
     "shell.execute_reply": "2023-07-03T17:44:30.945346Z"
    },
    "papermill": {
     "duration": 0.049117,
     "end_time": "2023-07-03T17:44:30.949425",
     "exception": false,
     "start_time": "2023-07-03T17:44:30.900308",
     "status": "completed"
    },
    "tags": []
   },
   "outputs": [],
   "source": [
    "data = data.drop(drop_colums, axis=1)"
   ]
  },
  {
   "cell_type": "code",
   "execution_count": 38,
   "id": "3634b6f7",
   "metadata": {
    "execution": {
     "iopub.execute_input": "2023-07-03T17:44:31.022089Z",
     "iopub.status.busy": "2023-07-03T17:44:31.021714Z",
     "iopub.status.idle": "2023-07-03T17:44:31.030111Z",
     "shell.execute_reply": "2023-07-03T17:44:31.028830Z"
    },
    "papermill": {
     "duration": 0.048732,
     "end_time": "2023-07-03T17:44:31.032659",
     "exception": false,
     "start_time": "2023-07-03T17:44:30.983927",
     "status": "completed"
    },
    "tags": []
   },
   "outputs": [
    {
     "data": {
      "text/plain": [
       "Index(['person_age', 'person_income', 'person_home_ownership',\n",
       "       'person_emp_length', 'loan_intent', 'loan_grade', 'loan_amnt',\n",
       "       'loan_int_rate', 'loan_status', 'loan_percent_income',\n",
       "       'cb_person_default_on_file', 'cb_person_cred_hist_length', 'age_group',\n",
       "       'income_group', 'loan_amount_group', 'loan_to_income_ratio',\n",
       "       'loan_to_emp_length_ratio', 'int_rate_to_loan_amt_ratio'],\n",
       "      dtype='object')"
      ]
     },
     "execution_count": 38,
     "metadata": {},
     "output_type": "execute_result"
    }
   ],
   "source": [
    "data.columns"
   ]
  },
  {
   "cell_type": "code",
   "execution_count": 39,
   "id": "a9b849f1",
   "metadata": {
    "execution": {
     "iopub.execute_input": "2023-07-03T17:44:31.104649Z",
     "iopub.status.busy": "2023-07-03T17:44:31.104230Z",
     "iopub.status.idle": "2023-07-03T17:44:31.115301Z",
     "shell.execute_reply": "2023-07-03T17:44:31.113880Z"
    },
    "papermill": {
     "duration": 0.050128,
     "end_time": "2023-07-03T17:44:31.118056",
     "exception": false,
     "start_time": "2023-07-03T17:44:31.067928",
     "status": "completed"
    },
    "tags": []
   },
   "outputs": [],
   "source": [
    "X = data.drop(['loan_status'], axis=1)\n",
    "Y = data['loan_status']"
   ]
  },
  {
   "cell_type": "code",
   "execution_count": 40,
   "id": "ba56d1e9",
   "metadata": {
    "execution": {
     "iopub.execute_input": "2023-07-03T17:44:31.189747Z",
     "iopub.status.busy": "2023-07-03T17:44:31.189342Z",
     "iopub.status.idle": "2023-07-03T17:44:32.883292Z",
     "shell.execute_reply": "2023-07-03T17:44:32.882247Z"
    },
    "papermill": {
     "duration": 1.734717,
     "end_time": "2023-07-03T17:44:32.887585",
     "exception": false,
     "start_time": "2023-07-03T17:44:31.152868",
     "status": "completed"
    },
    "tags": []
   },
   "outputs": [],
   "source": [
    "from sklearn.model_selection import train_test_split\n",
    "x_train, x_test, y_train, y_test = train_test_split(X,Y,test_size=0.2,random_state=12)\n"
   ]
  },
  {
   "cell_type": "code",
   "execution_count": 41,
   "id": "92170a4b",
   "metadata": {
    "execution": {
     "iopub.execute_input": "2023-07-03T17:44:32.973907Z",
     "iopub.status.busy": "2023-07-03T17:44:32.973481Z",
     "iopub.status.idle": "2023-07-03T17:44:32.978620Z",
     "shell.execute_reply": "2023-07-03T17:44:32.977770Z"
    },
    "papermill": {
     "duration": 0.051882,
     "end_time": "2023-07-03T17:44:32.981792",
     "exception": false,
     "start_time": "2023-07-03T17:44:32.929910",
     "status": "completed"
    },
    "tags": []
   },
   "outputs": [
    {
     "name": "stdout",
     "output_type": "stream",
     "text": [
      "(22904, 17) (5727, 17)\n"
     ]
    }
   ],
   "source": [
    "print(x_train.shape,x_test.shape)"
   ]
  },
  {
   "cell_type": "code",
   "execution_count": 42,
   "id": "27524f8e",
   "metadata": {
    "execution": {
     "iopub.execute_input": "2023-07-03T17:44:33.058396Z",
     "iopub.status.busy": "2023-07-03T17:44:33.057691Z",
     "iopub.status.idle": "2023-07-03T17:44:33.064118Z",
     "shell.execute_reply": "2023-07-03T17:44:33.062854Z"
    },
    "papermill": {
     "duration": 0.04748,
     "end_time": "2023-07-03T17:44:33.066867",
     "exception": false,
     "start_time": "2023-07-03T17:44:33.019387",
     "status": "completed"
    },
    "tags": []
   },
   "outputs": [],
   "source": [
    "x_train.reset_index(inplace = True)\n",
    "x_test.reset_index(inplace = True)"
   ]
  },
  {
   "cell_type": "code",
   "execution_count": 43,
   "id": "98109d94",
   "metadata": {
    "execution": {
     "iopub.execute_input": "2023-07-03T17:44:33.144531Z",
     "iopub.status.busy": "2023-07-03T17:44:33.143619Z",
     "iopub.status.idle": "2023-07-03T17:44:33.151387Z",
     "shell.execute_reply": "2023-07-03T17:44:33.150015Z"
    },
    "papermill": {
     "duration": 0.051027,
     "end_time": "2023-07-03T17:44:33.154231",
     "exception": false,
     "start_time": "2023-07-03T17:44:33.103204",
     "status": "completed"
    },
    "tags": []
   },
   "outputs": [
    {
     "data": {
      "text/plain": [
       "Index(['index', 'person_age', 'person_income', 'person_home_ownership',\n",
       "       'person_emp_length', 'loan_intent', 'loan_grade', 'loan_amnt',\n",
       "       'loan_int_rate', 'loan_percent_income', 'cb_person_default_on_file',\n",
       "       'cb_person_cred_hist_length', 'age_group', 'income_group',\n",
       "       'loan_amount_group', 'loan_to_income_ratio', 'loan_to_emp_length_ratio',\n",
       "       'int_rate_to_loan_amt_ratio'],\n",
       "      dtype='object')"
      ]
     },
     "execution_count": 43,
     "metadata": {},
     "output_type": "execute_result"
    }
   ],
   "source": [
    "x_train.columns"
   ]
  },
  {
   "cell_type": "code",
   "execution_count": 44,
   "id": "789539a7",
   "metadata": {
    "execution": {
     "iopub.execute_input": "2023-07-03T17:44:33.230317Z",
     "iopub.status.busy": "2023-07-03T17:44:33.229841Z",
     "iopub.status.idle": "2023-07-03T17:44:33.256741Z",
     "shell.execute_reply": "2023-07-03T17:44:33.255536Z"
    },
    "papermill": {
     "duration": 0.068113,
     "end_time": "2023-07-03T17:44:33.259342",
     "exception": false,
     "start_time": "2023-07-03T17:44:33.191229",
     "status": "completed"
    },
    "tags": []
   },
   "outputs": [
    {
     "data": {
      "text/html": [
       "<style>#sk-container-id-1 {color: black;background-color: white;}#sk-container-id-1 pre{padding: 0;}#sk-container-id-1 div.sk-toggleable {background-color: white;}#sk-container-id-1 label.sk-toggleable__label {cursor: pointer;display: block;width: 100%;margin-bottom: 0;padding: 0.3em;box-sizing: border-box;text-align: center;}#sk-container-id-1 label.sk-toggleable__label-arrow:before {content: \"▸\";float: left;margin-right: 0.25em;color: #696969;}#sk-container-id-1 label.sk-toggleable__label-arrow:hover:before {color: black;}#sk-container-id-1 div.sk-estimator:hover label.sk-toggleable__label-arrow:before {color: black;}#sk-container-id-1 div.sk-toggleable__content {max-height: 0;max-width: 0;overflow: hidden;text-align: left;background-color: #f0f8ff;}#sk-container-id-1 div.sk-toggleable__content pre {margin: 0.2em;color: black;border-radius: 0.25em;background-color: #f0f8ff;}#sk-container-id-1 input.sk-toggleable__control:checked~div.sk-toggleable__content {max-height: 200px;max-width: 100%;overflow: auto;}#sk-container-id-1 input.sk-toggleable__control:checked~label.sk-toggleable__label-arrow:before {content: \"▾\";}#sk-container-id-1 div.sk-estimator input.sk-toggleable__control:checked~label.sk-toggleable__label {background-color: #d4ebff;}#sk-container-id-1 div.sk-label input.sk-toggleable__control:checked~label.sk-toggleable__label {background-color: #d4ebff;}#sk-container-id-1 input.sk-hidden--visually {border: 0;clip: rect(1px 1px 1px 1px);clip: rect(1px, 1px, 1px, 1px);height: 1px;margin: -1px;overflow: hidden;padding: 0;position: absolute;width: 1px;}#sk-container-id-1 div.sk-estimator {font-family: monospace;background-color: #f0f8ff;border: 1px dotted black;border-radius: 0.25em;box-sizing: border-box;margin-bottom: 0.5em;}#sk-container-id-1 div.sk-estimator:hover {background-color: #d4ebff;}#sk-container-id-1 div.sk-parallel-item::after {content: \"\";width: 100%;border-bottom: 1px solid gray;flex-grow: 1;}#sk-container-id-1 div.sk-label:hover label.sk-toggleable__label {background-color: #d4ebff;}#sk-container-id-1 div.sk-serial::before {content: \"\";position: absolute;border-left: 1px solid gray;box-sizing: border-box;top: 0;bottom: 0;left: 50%;z-index: 0;}#sk-container-id-1 div.sk-serial {display: flex;flex-direction: column;align-items: center;background-color: white;padding-right: 0.2em;padding-left: 0.2em;position: relative;}#sk-container-id-1 div.sk-item {position: relative;z-index: 1;}#sk-container-id-1 div.sk-parallel {display: flex;align-items: stretch;justify-content: center;background-color: white;position: relative;}#sk-container-id-1 div.sk-item::before, #sk-container-id-1 div.sk-parallel-item::before {content: \"\";position: absolute;border-left: 1px solid gray;box-sizing: border-box;top: 0;bottom: 0;left: 50%;z-index: -1;}#sk-container-id-1 div.sk-parallel-item {display: flex;flex-direction: column;z-index: 1;position: relative;background-color: white;}#sk-container-id-1 div.sk-parallel-item:first-child::after {align-self: flex-end;width: 50%;}#sk-container-id-1 div.sk-parallel-item:last-child::after {align-self: flex-start;width: 50%;}#sk-container-id-1 div.sk-parallel-item:only-child::after {width: 0;}#sk-container-id-1 div.sk-dashed-wrapped {border: 1px dashed gray;margin: 0 0.4em 0.5em 0.4em;box-sizing: border-box;padding-bottom: 0.4em;background-color: white;}#sk-container-id-1 div.sk-label label {font-family: monospace;font-weight: bold;display: inline-block;line-height: 1.2em;}#sk-container-id-1 div.sk-label-container {text-align: center;}#sk-container-id-1 div.sk-container {/* jupyter's `normalize.less` sets `[hidden] { display: none; }` but bootstrap.min.css set `[hidden] { display: none !important; }` so we also need the `!important` here to be able to override the default hidden behavior on the sphinx rendered scikit-learn.org. See: https://github.com/scikit-learn/scikit-learn/issues/21755 */display: inline-block !important;position: relative;}#sk-container-id-1 div.sk-text-repr-fallback {display: none;}</style><div id=\"sk-container-id-1\" class=\"sk-top-container\"><div class=\"sk-text-repr-fallback\"><pre>OneHotEncoder()</pre><b>In a Jupyter environment, please rerun this cell to show the HTML representation or trust the notebook. <br />On GitHub, the HTML representation is unable to render, please try loading this page with nbviewer.org.</b></div><div class=\"sk-container\" hidden><div class=\"sk-item\"><div class=\"sk-estimator sk-toggleable\"><input class=\"sk-toggleable__control sk-hidden--visually\" id=\"sk-estimator-id-1\" type=\"checkbox\" checked><label for=\"sk-estimator-id-1\" class=\"sk-toggleable__label sk-toggleable__label-arrow\">OneHotEncoder</label><div class=\"sk-toggleable__content\"><pre>OneHotEncoder()</pre></div></div></div></div></div>"
      ],
      "text/plain": [
       "OneHotEncoder()"
      ]
     },
     "execution_count": 44,
     "metadata": {},
     "output_type": "execute_result"
    }
   ],
   "source": [
    "from sklearn.preprocessing import OneHotEncoder\n",
    "ohe = OneHotEncoder()\n",
    "ohe.fit(x_train[ohe_colums])"
   ]
  },
  {
   "cell_type": "code",
   "execution_count": 45,
   "id": "3966d4e1",
   "metadata": {
    "execution": {
     "iopub.execute_input": "2023-07-03T17:44:33.336430Z",
     "iopub.status.busy": "2023-07-03T17:44:33.335275Z",
     "iopub.status.idle": "2023-07-03T17:44:33.342901Z",
     "shell.execute_reply": "2023-07-03T17:44:33.342056Z"
    },
    "papermill": {
     "duration": 0.0485,
     "end_time": "2023-07-03T17:44:33.345513",
     "exception": false,
     "start_time": "2023-07-03T17:44:33.297013",
     "status": "completed"
    },
    "tags": []
   },
   "outputs": [
    {
     "data": {
      "text/plain": [
       "[array(['N', 'Y'], dtype=object),\n",
       " array(['A', 'B', 'C', 'D', 'E', 'F', 'G'], dtype=object),\n",
       " array(['MORTGAGE', 'OTHER', 'OWN', 'RENT'], dtype=object),\n",
       " array(['DEBTCONSOLIDATION', 'EDUCATION', 'HOMEIMPROVEMENT', 'MEDICAL',\n",
       "        'PERSONAL', 'VENTURE'], dtype=object),\n",
       " array(['high', 'high-middle', 'low', 'low-middle', 'middle'], dtype=object),\n",
       " array(['20-25', '26-35', '36-45', '46-55', '56-65', nan], dtype=object),\n",
       " array(['large', 'medium', 'small', 'very large'], dtype=object)]"
      ]
     },
     "execution_count": 45,
     "metadata": {},
     "output_type": "execute_result"
    }
   ],
   "source": [
    "ohe.categories_"
   ]
  },
  {
   "cell_type": "code",
   "execution_count": 46,
   "id": "bf5cfe4e",
   "metadata": {
    "execution": {
     "iopub.execute_input": "2023-07-03T17:44:33.425362Z",
     "iopub.status.busy": "2023-07-03T17:44:33.424421Z",
     "iopub.status.idle": "2023-07-03T17:44:33.430019Z",
     "shell.execute_reply": "2023-07-03T17:44:33.429140Z"
    },
    "papermill": {
     "duration": 0.047764,
     "end_time": "2023-07-03T17:44:33.432470",
     "exception": false,
     "start_time": "2023-07-03T17:44:33.384706",
     "status": "completed"
    },
    "tags": []
   },
   "outputs": [],
   "source": [
    "merge_ohe_col = np.concatenate((ohe.categories_[0], \n",
    "                ohe.categories_[1],\n",
    "                ohe.categories_[2],\n",
    "                ohe.categories_[3],\n",
    "                ohe.categories_[4],\n",
    "                ohe.categories_[5],\n",
    "                ohe.categories_[6],))"
   ]
  },
  {
   "cell_type": "code",
   "execution_count": 47,
   "id": "dd586545",
   "metadata": {
    "execution": {
     "iopub.execute_input": "2023-07-03T17:44:33.509745Z",
     "iopub.status.busy": "2023-07-03T17:44:33.509288Z",
     "iopub.status.idle": "2023-07-03T17:44:33.515938Z",
     "shell.execute_reply": "2023-07-03T17:44:33.515010Z"
    },
    "papermill": {
     "duration": 0.048104,
     "end_time": "2023-07-03T17:44:33.518868",
     "exception": false,
     "start_time": "2023-07-03T17:44:33.470764",
     "status": "completed"
    },
    "tags": []
   },
   "outputs": [
    {
     "data": {
      "text/plain": [
       "array(['N', 'Y', 'A', 'B', 'C', 'D', 'E', 'F', 'G', 'MORTGAGE', 'OTHER',\n",
       "       'OWN', 'RENT', 'DEBTCONSOLIDATION', 'EDUCATION', 'HOMEIMPROVEMENT',\n",
       "       'MEDICAL', 'PERSONAL', 'VENTURE', 'high', 'high-middle', 'low',\n",
       "       'low-middle', 'middle', '20-25', '26-35', '36-45', '46-55',\n",
       "       '56-65', nan, 'large', 'medium', 'small', 'very large'],\n",
       "      dtype=object)"
      ]
     },
     "execution_count": 47,
     "metadata": {},
     "output_type": "execute_result"
    }
   ],
   "source": [
    "merge_ohe_col"
   ]
  },
  {
   "cell_type": "code",
   "execution_count": 48,
   "id": "d22a4d97",
   "metadata": {
    "execution": {
     "iopub.execute_input": "2023-07-03T17:44:33.599766Z",
     "iopub.status.busy": "2023-07-03T17:44:33.599050Z",
     "iopub.status.idle": "2023-07-03T17:44:33.702248Z",
     "shell.execute_reply": "2023-07-03T17:44:33.700887Z"
    },
    "papermill": {
     "duration": 0.146532,
     "end_time": "2023-07-03T17:44:33.705672",
     "exception": false,
     "start_time": "2023-07-03T17:44:33.559140",
     "status": "completed"
    },
    "tags": []
   },
   "outputs": [],
   "source": [
    "ohe_data = pd.DataFrame(ohe.transform(x_train[ohe_colums]).toarray(), columns=merge_ohe_col)\n",
    "ohe_data2 = pd.DataFrame(ohe.transform(x_test[ohe_colums]).toarray(),columns=merge_ohe_col)"
   ]
  },
  {
   "cell_type": "code",
   "execution_count": 49,
   "id": "1c64a16d",
   "metadata": {
    "execution": {
     "iopub.execute_input": "2023-07-03T17:44:33.784586Z",
     "iopub.status.busy": "2023-07-03T17:44:33.784110Z",
     "iopub.status.idle": "2023-07-03T17:44:33.815647Z",
     "shell.execute_reply": "2023-07-03T17:44:33.814465Z"
    },
    "papermill": {
     "duration": 0.074828,
     "end_time": "2023-07-03T17:44:33.819066",
     "exception": false,
     "start_time": "2023-07-03T17:44:33.744238",
     "status": "completed"
    },
    "tags": []
   },
   "outputs": [],
   "source": [
    "\n",
    "X_new = pd.concat([ohe_data, x_train], axis=1)\n",
    "X_new = X_new.drop(ohe_colums, axis=1)\n",
    "\n",
    "\n",
    "X_new_test = pd.concat([ohe_data2, x_test], axis=1)\n",
    "X_new_test = X_new_test.drop(ohe_colums, axis=1)\n"
   ]
  },
  {
   "cell_type": "code",
   "execution_count": 50,
   "id": "db79194a",
   "metadata": {
    "execution": {
     "iopub.execute_input": "2023-07-03T17:44:33.897817Z",
     "iopub.status.busy": "2023-07-03T17:44:33.897380Z",
     "iopub.status.idle": "2023-07-03T17:44:33.905071Z",
     "shell.execute_reply": "2023-07-03T17:44:33.903987Z"
    },
    "papermill": {
     "duration": 0.050328,
     "end_time": "2023-07-03T17:44:33.907372",
     "exception": false,
     "start_time": "2023-07-03T17:44:33.857044",
     "status": "completed"
    },
    "tags": []
   },
   "outputs": [
    {
     "data": {
      "text/plain": [
       "(22904, 45)"
      ]
     },
     "execution_count": 50,
     "metadata": {},
     "output_type": "execute_result"
    }
   ],
   "source": [
    "X_new.head()\n",
    "X_new.shape"
   ]
  },
  {
   "cell_type": "code",
   "execution_count": 51,
   "id": "96195a3e",
   "metadata": {
    "execution": {
     "iopub.execute_input": "2023-07-03T17:44:33.988211Z",
     "iopub.status.busy": "2023-07-03T17:44:33.987736Z",
     "iopub.status.idle": "2023-07-03T17:44:34.021679Z",
     "shell.execute_reply": "2023-07-03T17:44:34.020396Z"
    },
    "papermill": {
     "duration": 0.078613,
     "end_time": "2023-07-03T17:44:34.024282",
     "exception": false,
     "start_time": "2023-07-03T17:44:33.945669",
     "status": "completed"
    },
    "tags": []
   },
   "outputs": [
    {
     "data": {
      "text/html": [
       "<div>\n",
       "<style scoped>\n",
       "    .dataframe tbody tr th:only-of-type {\n",
       "        vertical-align: middle;\n",
       "    }\n",
       "\n",
       "    .dataframe tbody tr th {\n",
       "        vertical-align: top;\n",
       "    }\n",
       "\n",
       "    .dataframe thead th {\n",
       "        text-align: right;\n",
       "    }\n",
       "</style>\n",
       "<table border=\"1\" class=\"dataframe\">\n",
       "  <thead>\n",
       "    <tr style=\"text-align: right;\">\n",
       "      <th></th>\n",
       "      <th>N</th>\n",
       "      <th>Y</th>\n",
       "      <th>A</th>\n",
       "      <th>B</th>\n",
       "      <th>C</th>\n",
       "      <th>D</th>\n",
       "      <th>E</th>\n",
       "      <th>F</th>\n",
       "      <th>G</th>\n",
       "      <th>MORTGAGE</th>\n",
       "      <th>...</th>\n",
       "      <th>person_age</th>\n",
       "      <th>person_income</th>\n",
       "      <th>person_emp_length</th>\n",
       "      <th>loan_amnt</th>\n",
       "      <th>loan_int_rate</th>\n",
       "      <th>loan_percent_income</th>\n",
       "      <th>cb_person_cred_hist_length</th>\n",
       "      <th>loan_to_income_ratio</th>\n",
       "      <th>loan_to_emp_length_ratio</th>\n",
       "      <th>int_rate_to_loan_amt_ratio</th>\n",
       "    </tr>\n",
       "  </thead>\n",
       "  <tbody>\n",
       "    <tr>\n",
       "      <th>0</th>\n",
       "      <td>1.0</td>\n",
       "      <td>0.0</td>\n",
       "      <td>1.0</td>\n",
       "      <td>0.0</td>\n",
       "      <td>0.0</td>\n",
       "      <td>0.0</td>\n",
       "      <td>0.0</td>\n",
       "      <td>0.0</td>\n",
       "      <td>0.0</td>\n",
       "      <td>1.0</td>\n",
       "      <td>...</td>\n",
       "      <td>35</td>\n",
       "      <td>66000</td>\n",
       "      <td>4.0</td>\n",
       "      <td>3000</td>\n",
       "      <td>6.03</td>\n",
       "      <td>0.05</td>\n",
       "      <td>7</td>\n",
       "      <td>0.045455</td>\n",
       "      <td>0.001333</td>\n",
       "      <td>0.002010</td>\n",
       "    </tr>\n",
       "    <tr>\n",
       "      <th>1</th>\n",
       "      <td>1.0</td>\n",
       "      <td>0.0</td>\n",
       "      <td>0.0</td>\n",
       "      <td>0.0</td>\n",
       "      <td>0.0</td>\n",
       "      <td>1.0</td>\n",
       "      <td>0.0</td>\n",
       "      <td>0.0</td>\n",
       "      <td>0.0</td>\n",
       "      <td>0.0</td>\n",
       "      <td>...</td>\n",
       "      <td>35</td>\n",
       "      <td>33144</td>\n",
       "      <td>3.0</td>\n",
       "      <td>8400</td>\n",
       "      <td>14.91</td>\n",
       "      <td>0.25</td>\n",
       "      <td>8</td>\n",
       "      <td>0.253440</td>\n",
       "      <td>0.000357</td>\n",
       "      <td>0.001775</td>\n",
       "    </tr>\n",
       "    <tr>\n",
       "      <th>2</th>\n",
       "      <td>0.0</td>\n",
       "      <td>1.0</td>\n",
       "      <td>0.0</td>\n",
       "      <td>0.0</td>\n",
       "      <td>0.0</td>\n",
       "      <td>1.0</td>\n",
       "      <td>0.0</td>\n",
       "      <td>0.0</td>\n",
       "      <td>0.0</td>\n",
       "      <td>0.0</td>\n",
       "      <td>...</td>\n",
       "      <td>32</td>\n",
       "      <td>36000</td>\n",
       "      <td>4.0</td>\n",
       "      <td>6000</td>\n",
       "      <td>16.07</td>\n",
       "      <td>0.17</td>\n",
       "      <td>10</td>\n",
       "      <td>0.166667</td>\n",
       "      <td>0.000667</td>\n",
       "      <td>0.002678</td>\n",
       "    </tr>\n",
       "    <tr>\n",
       "      <th>3</th>\n",
       "      <td>0.0</td>\n",
       "      <td>1.0</td>\n",
       "      <td>0.0</td>\n",
       "      <td>0.0</td>\n",
       "      <td>1.0</td>\n",
       "      <td>0.0</td>\n",
       "      <td>0.0</td>\n",
       "      <td>0.0</td>\n",
       "      <td>0.0</td>\n",
       "      <td>0.0</td>\n",
       "      <td>...</td>\n",
       "      <td>25</td>\n",
       "      <td>61500</td>\n",
       "      <td>1.0</td>\n",
       "      <td>18000</td>\n",
       "      <td>13.23</td>\n",
       "      <td>0.29</td>\n",
       "      <td>2</td>\n",
       "      <td>0.292683</td>\n",
       "      <td>0.000056</td>\n",
       "      <td>0.000735</td>\n",
       "    </tr>\n",
       "    <tr>\n",
       "      <th>4</th>\n",
       "      <td>1.0</td>\n",
       "      <td>0.0</td>\n",
       "      <td>0.0</td>\n",
       "      <td>1.0</td>\n",
       "      <td>0.0</td>\n",
       "      <td>0.0</td>\n",
       "      <td>0.0</td>\n",
       "      <td>0.0</td>\n",
       "      <td>0.0</td>\n",
       "      <td>0.0</td>\n",
       "      <td>...</td>\n",
       "      <td>32</td>\n",
       "      <td>24000</td>\n",
       "      <td>7.0</td>\n",
       "      <td>2800</td>\n",
       "      <td>10.99</td>\n",
       "      <td>0.12</td>\n",
       "      <td>9</td>\n",
       "      <td>0.116667</td>\n",
       "      <td>0.002500</td>\n",
       "      <td>0.003925</td>\n",
       "    </tr>\n",
       "  </tbody>\n",
       "</table>\n",
       "<p>5 rows × 45 columns</p>\n",
       "</div>"
      ],
      "text/plain": [
       "     N    Y    A    B    C    D    E    F    G  MORTGAGE  ...  person_age  \\\n",
       "0  1.0  0.0  1.0  0.0  0.0  0.0  0.0  0.0  0.0       1.0  ...          35   \n",
       "1  1.0  0.0  0.0  0.0  0.0  1.0  0.0  0.0  0.0       0.0  ...          35   \n",
       "2  0.0  1.0  0.0  0.0  0.0  1.0  0.0  0.0  0.0       0.0  ...          32   \n",
       "3  0.0  1.0  0.0  0.0  1.0  0.0  0.0  0.0  0.0       0.0  ...          25   \n",
       "4  1.0  0.0  0.0  1.0  0.0  0.0  0.0  0.0  0.0       0.0  ...          32   \n",
       "\n",
       "   person_income  person_emp_length  loan_amnt  loan_int_rate  \\\n",
       "0          66000                4.0       3000           6.03   \n",
       "1          33144                3.0       8400          14.91   \n",
       "2          36000                4.0       6000          16.07   \n",
       "3          61500                1.0      18000          13.23   \n",
       "4          24000                7.0       2800          10.99   \n",
       "\n",
       "   loan_percent_income  cb_person_cred_hist_length  loan_to_income_ratio  \\\n",
       "0                 0.05                           7              0.045455   \n",
       "1                 0.25                           8              0.253440   \n",
       "2                 0.17                          10              0.166667   \n",
       "3                 0.29                           2              0.292683   \n",
       "4                 0.12                           9              0.116667   \n",
       "\n",
       "   loan_to_emp_length_ratio  int_rate_to_loan_amt_ratio  \n",
       "0                  0.001333                    0.002010  \n",
       "1                  0.000357                    0.001775  \n",
       "2                  0.000667                    0.002678  \n",
       "3                  0.000056                    0.000735  \n",
       "4                  0.002500                    0.003925  \n",
       "\n",
       "[5 rows x 45 columns]"
      ]
     },
     "execution_count": 51,
     "metadata": {},
     "output_type": "execute_result"
    }
   ],
   "source": [
    "X_new_test.head()\n"
   ]
  },
  {
   "cell_type": "code",
   "execution_count": 52,
   "id": "ba2492d2",
   "metadata": {
    "execution": {
     "iopub.execute_input": "2023-07-03T17:44:34.101086Z",
     "iopub.status.busy": "2023-07-03T17:44:34.100599Z",
     "iopub.status.idle": "2023-07-03T17:44:34.217020Z",
     "shell.execute_reply": "2023-07-03T17:44:34.215578Z"
    },
    "papermill": {
     "duration": 0.158328,
     "end_time": "2023-07-03T17:44:34.220036",
     "exception": false,
     "start_time": "2023-07-03T17:44:34.061708",
     "status": "completed"
    },
    "tags": []
   },
   "outputs": [],
   "source": [
    "from sklearn.preprocessing import MinMaxScaler,StandardScaler,RobustScaler\n",
    "\n",
    "scale_cols = ['person_income','person_age','person_emp_length', 'loan_amnt','loan_int_rate','cb_person_cred_hist_length','loan_percent_income', 'loan_to_emp_length_ratio',\n",
    "       'int_rate_to_loan_amt_ratio']\n",
    "\n",
    "uniform_col= []\n",
    "\n",
    "normal_col = ['person_income','person_age','person_emp_length', 'loan_amnt','loan_int_rate','cb_person_cred_hist_length','loan_percent_income', 'loan_to_emp_length_ratio',\n",
    "       'int_rate_to_loan_amt_ratio']\n",
    "\n",
    "bimodal_col = []\n",
    "\n",
    "\n",
    "scaler_uniform = MinMaxScaler()\n",
    "#X_new.loc[:,uniform_col] = scaler_uniform.fit_transform(X_new.loc[:,uniform_col])\n",
    "#X_new_test.loc[:,uniform_col] = scaler_uniform.transform(X_new_test.loc[:,uniform_col])\n",
    "\n",
    "scaler_normal = StandardScaler()\n",
    "X_new.loc[:,normal_col] = scaler_normal.fit_transform(X_new.loc[:,normal_col])\n",
    "X_new_test.loc[:,normal_col] = scaler_normal.transform(X_new_test.loc[:,normal_col])\n",
    "\n",
    "scaler_bimodal = RobustScaler()\n",
    "#X_new.loc[:,bimodal_col] = scaler_bimodal.fit_transform(X_new.loc[:,bimodal_col])\n",
    "#X_new_test.loc[:,bimodal_col] = scaler_bimodal.transform(X_new_test.loc[:,bimodal_col])"
   ]
  },
  {
   "cell_type": "code",
   "execution_count": 53,
   "id": "cbe9c763",
   "metadata": {
    "execution": {
     "iopub.execute_input": "2023-07-03T17:44:34.296417Z",
     "iopub.status.busy": "2023-07-03T17:44:34.295953Z",
     "iopub.status.idle": "2023-07-03T17:44:34.330997Z",
     "shell.execute_reply": "2023-07-03T17:44:34.329872Z"
    },
    "papermill": {
     "duration": 0.075647,
     "end_time": "2023-07-03T17:44:34.333428",
     "exception": false,
     "start_time": "2023-07-03T17:44:34.257781",
     "status": "completed"
    },
    "tags": []
   },
   "outputs": [
    {
     "data": {
      "text/html": [
       "<div>\n",
       "<style scoped>\n",
       "    .dataframe tbody tr th:only-of-type {\n",
       "        vertical-align: middle;\n",
       "    }\n",
       "\n",
       "    .dataframe tbody tr th {\n",
       "        vertical-align: top;\n",
       "    }\n",
       "\n",
       "    .dataframe thead th {\n",
       "        text-align: right;\n",
       "    }\n",
       "</style>\n",
       "<table border=\"1\" class=\"dataframe\">\n",
       "  <thead>\n",
       "    <tr style=\"text-align: right;\">\n",
       "      <th></th>\n",
       "      <th>N</th>\n",
       "      <th>Y</th>\n",
       "      <th>A</th>\n",
       "      <th>B</th>\n",
       "      <th>C</th>\n",
       "      <th>D</th>\n",
       "      <th>E</th>\n",
       "      <th>F</th>\n",
       "      <th>G</th>\n",
       "      <th>MORTGAGE</th>\n",
       "      <th>...</th>\n",
       "      <th>person_age</th>\n",
       "      <th>person_income</th>\n",
       "      <th>person_emp_length</th>\n",
       "      <th>loan_amnt</th>\n",
       "      <th>loan_int_rate</th>\n",
       "      <th>loan_percent_income</th>\n",
       "      <th>cb_person_cred_hist_length</th>\n",
       "      <th>loan_to_income_ratio</th>\n",
       "      <th>loan_to_emp_length_ratio</th>\n",
       "      <th>int_rate_to_loan_amt_ratio</th>\n",
       "    </tr>\n",
       "  </thead>\n",
       "  <tbody>\n",
       "    <tr>\n",
       "      <th>0</th>\n",
       "      <td>1.0</td>\n",
       "      <td>0.0</td>\n",
       "      <td>1.0</td>\n",
       "      <td>0.0</td>\n",
       "      <td>0.0</td>\n",
       "      <td>0.0</td>\n",
       "      <td>0.0</td>\n",
       "      <td>0.0</td>\n",
       "      <td>0.0</td>\n",
       "      <td>1.0</td>\n",
       "      <td>...</td>\n",
       "      <td>1.181707</td>\n",
       "      <td>-0.006231</td>\n",
       "      <td>-0.192831</td>\n",
       "      <td>-1.052710</td>\n",
       "      <td>-1.556377</td>\n",
       "      <td>-1.123388</td>\n",
       "      <td>0.296643</td>\n",
       "      <td>0.045455</td>\n",
       "      <td>0.530868</td>\n",
       "      <td>0.076675</td>\n",
       "    </tr>\n",
       "    <tr>\n",
       "      <th>1</th>\n",
       "      <td>1.0</td>\n",
       "      <td>0.0</td>\n",
       "      <td>0.0</td>\n",
       "      <td>0.0</td>\n",
       "      <td>0.0</td>\n",
       "      <td>1.0</td>\n",
       "      <td>0.0</td>\n",
       "      <td>0.0</td>\n",
       "      <td>0.0</td>\n",
       "      <td>0.0</td>\n",
       "      <td>...</td>\n",
       "      <td>1.181707</td>\n",
       "      <td>-0.655354</td>\n",
       "      <td>-0.440648</td>\n",
       "      <td>-0.197407</td>\n",
       "      <td>1.195223</td>\n",
       "      <td>0.757473</td>\n",
       "      <td>0.543970</td>\n",
       "      <td>0.253440</td>\n",
       "      <td>-0.380924</td>\n",
       "      <td>-0.049526</td>\n",
       "    </tr>\n",
       "    <tr>\n",
       "      <th>2</th>\n",
       "      <td>0.0</td>\n",
       "      <td>1.0</td>\n",
       "      <td>0.0</td>\n",
       "      <td>0.0</td>\n",
       "      <td>0.0</td>\n",
       "      <td>1.0</td>\n",
       "      <td>0.0</td>\n",
       "      <td>0.0</td>\n",
       "      <td>0.0</td>\n",
       "      <td>0.0</td>\n",
       "      <td>...</td>\n",
       "      <td>0.695186</td>\n",
       "      <td>-0.598929</td>\n",
       "      <td>-0.192831</td>\n",
       "      <td>-0.577541</td>\n",
       "      <td>1.554667</td>\n",
       "      <td>0.005128</td>\n",
       "      <td>1.038624</td>\n",
       "      <td>0.166667</td>\n",
       "      <td>-0.091820</td>\n",
       "      <td>0.435586</td>\n",
       "    </tr>\n",
       "    <tr>\n",
       "      <th>3</th>\n",
       "      <td>0.0</td>\n",
       "      <td>1.0</td>\n",
       "      <td>0.0</td>\n",
       "      <td>0.0</td>\n",
       "      <td>1.0</td>\n",
       "      <td>0.0</td>\n",
       "      <td>0.0</td>\n",
       "      <td>0.0</td>\n",
       "      <td>0.0</td>\n",
       "      <td>0.0</td>\n",
       "      <td>...</td>\n",
       "      <td>-0.440030</td>\n",
       "      <td>-0.095136</td>\n",
       "      <td>-0.936282</td>\n",
       "      <td>1.323133</td>\n",
       "      <td>0.674650</td>\n",
       "      <td>1.133645</td>\n",
       "      <td>-0.939991</td>\n",
       "      <td>0.292683</td>\n",
       "      <td>-0.662616</td>\n",
       "      <td>-0.608033</td>\n",
       "    </tr>\n",
       "    <tr>\n",
       "      <th>4</th>\n",
       "      <td>1.0</td>\n",
       "      <td>0.0</td>\n",
       "      <td>0.0</td>\n",
       "      <td>1.0</td>\n",
       "      <td>0.0</td>\n",
       "      <td>0.0</td>\n",
       "      <td>0.0</td>\n",
       "      <td>0.0</td>\n",
       "      <td>0.0</td>\n",
       "      <td>0.0</td>\n",
       "      <td>...</td>\n",
       "      <td>0.695186</td>\n",
       "      <td>-0.836009</td>\n",
       "      <td>0.550621</td>\n",
       "      <td>-1.084388</td>\n",
       "      <td>-0.019447</td>\n",
       "      <td>-0.465087</td>\n",
       "      <td>0.791297</td>\n",
       "      <td>0.116667</td>\n",
       "      <td>1.620571</td>\n",
       "      <td>1.105078</td>\n",
       "    </tr>\n",
       "  </tbody>\n",
       "</table>\n",
       "<p>5 rows × 45 columns</p>\n",
       "</div>"
      ],
      "text/plain": [
       "     N    Y    A    B    C    D    E    F    G  MORTGAGE  ...  person_age  \\\n",
       "0  1.0  0.0  1.0  0.0  0.0  0.0  0.0  0.0  0.0       1.0  ...    1.181707   \n",
       "1  1.0  0.0  0.0  0.0  0.0  1.0  0.0  0.0  0.0       0.0  ...    1.181707   \n",
       "2  0.0  1.0  0.0  0.0  0.0  1.0  0.0  0.0  0.0       0.0  ...    0.695186   \n",
       "3  0.0  1.0  0.0  0.0  1.0  0.0  0.0  0.0  0.0       0.0  ...   -0.440030   \n",
       "4  1.0  0.0  0.0  1.0  0.0  0.0  0.0  0.0  0.0       0.0  ...    0.695186   \n",
       "\n",
       "   person_income  person_emp_length  loan_amnt  loan_int_rate  \\\n",
       "0      -0.006231          -0.192831  -1.052710      -1.556377   \n",
       "1      -0.655354          -0.440648  -0.197407       1.195223   \n",
       "2      -0.598929          -0.192831  -0.577541       1.554667   \n",
       "3      -0.095136          -0.936282   1.323133       0.674650   \n",
       "4      -0.836009           0.550621  -1.084388      -0.019447   \n",
       "\n",
       "   loan_percent_income  cb_person_cred_hist_length  loan_to_income_ratio  \\\n",
       "0            -1.123388                    0.296643              0.045455   \n",
       "1             0.757473                    0.543970              0.253440   \n",
       "2             0.005128                    1.038624              0.166667   \n",
       "3             1.133645                   -0.939991              0.292683   \n",
       "4            -0.465087                    0.791297              0.116667   \n",
       "\n",
       "   loan_to_emp_length_ratio  int_rate_to_loan_amt_ratio  \n",
       "0                  0.530868                    0.076675  \n",
       "1                 -0.380924                   -0.049526  \n",
       "2                 -0.091820                    0.435586  \n",
       "3                 -0.662616                   -0.608033  \n",
       "4                  1.620571                    1.105078  \n",
       "\n",
       "[5 rows x 45 columns]"
      ]
     },
     "execution_count": 53,
     "metadata": {},
     "output_type": "execute_result"
    }
   ],
   "source": [
    "X_new_test.head()"
   ]
  },
  {
   "cell_type": "markdown",
   "id": "8a05566f",
   "metadata": {
    "papermill": {
     "duration": 0.037681,
     "end_time": "2023-07-03T17:44:34.408558",
     "exception": false,
     "start_time": "2023-07-03T17:44:34.370877",
     "status": "completed"
    },
    "tags": []
   },
   "source": [
    "# Modeling"
   ]
  },
  {
   "cell_type": "code",
   "execution_count": 54,
   "id": "6fb92a78",
   "metadata": {
    "execution": {
     "iopub.execute_input": "2023-07-03T17:44:34.485908Z",
     "iopub.status.busy": "2023-07-03T17:44:34.485113Z",
     "iopub.status.idle": "2023-07-03T17:44:36.746880Z",
     "shell.execute_reply": "2023-07-03T17:44:36.745005Z"
    },
    "papermill": {
     "duration": 2.304295,
     "end_time": "2023-07-03T17:44:36.750017",
     "exception": false,
     "start_time": "2023-07-03T17:44:34.445722",
     "status": "completed"
    },
    "tags": []
   },
   "outputs": [],
   "source": [
    "from sklearn.linear_model import LinearRegression\n",
    "from sklearn.svm import SVC\n",
    "from sklearn.naive_bayes import MultinomialNB\n",
    "from sklearn.tree import DecisionTreeClassifier\n",
    "from sklearn.neighbors import KNeighborsClassifier\n",
    "from sklearn.ensemble import RandomForestClassifier\n",
    "from sklearn.ensemble import AdaBoostClassifier\n",
    "from sklearn.ensemble import BaggingClassifier\n",
    "from sklearn.ensemble import ExtraTreesClassifier\n",
    "from sklearn.ensemble import GradientBoostingClassifier\n",
    "from xgboost import XGBClassifier\n",
    "from sklearn.linear_model import LogisticRegression\n",
    "from catboost import CatBoostClassifier\n",
    "import lightgbm as lgb"
   ]
  },
  {
   "cell_type": "code",
   "execution_count": 55,
   "id": "a4924409",
   "metadata": {
    "execution": {
     "iopub.execute_input": "2023-07-03T17:44:36.831878Z",
     "iopub.status.busy": "2023-07-03T17:44:36.831450Z",
     "iopub.status.idle": "2023-07-03T17:44:36.843795Z",
     "shell.execute_reply": "2023-07-03T17:44:36.842383Z"
    },
    "papermill": {
     "duration": 0.055325,
     "end_time": "2023-07-03T17:44:36.846100",
     "exception": false,
     "start_time": "2023-07-03T17:44:36.790775",
     "status": "completed"
    },
    "tags": []
   },
   "outputs": [],
   "source": [
    "svc = SVC()\n",
    "knc = KNeighborsClassifier() #algorithm='ball_tree', leaf_size=10, n_neighbors=18, p=1, weights='distance'\n",
    "mnb = MultinomialNB()\n",
    "dtc = DecisionTreeClassifier()\n",
    "lrc = LogisticRegression()\n",
    "rfc = RandomForestClassifier()\n",
    "abc = AdaBoostClassifier()\n",
    "bc = BaggingClassifier()\n",
    "etc = ExtraTreesClassifier()\n",
    "gbdt = GradientBoostingClassifier()\n",
    "xgb = XGBClassifier()\n",
    "cat = CatBoostClassifier(depth=7, iterations=300, l2_leaf_reg= 1, learning_rate= 0.1,verbose=0) #\n",
    "lgb = lgb.LGBMClassifier(colsample_bytree= 0.7378703019867917,learning_rate= 0.007929963347654646,max_depth=5,min_child_weight= 0.05345076003503776,num_leaves= 20,subsample= 0.892939141154265) \n",
    "\n",
    "#best #colsample_bytree= 0.7378703019867917,learning_rate= 0.007929963347654646,max_depth=5,min_child_weight= 0.05345076003503776,num_leaves= 20,subsample= 0.892939141154265\n",
    "#colsample_bytree= 1.0,learning_rate= 0.1,max_depth=11,min_child_weight= 1e-05,num_leaves= 1024,subsample=1.0"
   ]
  },
  {
   "cell_type": "code",
   "execution_count": 56,
   "id": "2b40b55f",
   "metadata": {
    "execution": {
     "iopub.execute_input": "2023-07-03T17:44:36.925401Z",
     "iopub.status.busy": "2023-07-03T17:44:36.924797Z",
     "iopub.status.idle": "2023-07-03T17:44:36.929210Z",
     "shell.execute_reply": "2023-07-03T17:44:36.928337Z"
    },
    "papermill": {
     "duration": 0.047269,
     "end_time": "2023-07-03T17:44:36.931828",
     "exception": false,
     "start_time": "2023-07-03T17:44:36.884559",
     "status": "completed"
    },
    "tags": []
   },
   "outputs": [],
   "source": [
    "clfs = {\n",
    "    'KN' : knc, \n",
    "    'xgb':xgb,\n",
    "    'cat':cat,\n",
    "    'lgb':lgb\n",
    "}"
   ]
  },
  {
   "cell_type": "code",
   "execution_count": 57,
   "id": "88d8692c",
   "metadata": {
    "execution": {
     "iopub.execute_input": "2023-07-03T17:44:37.016972Z",
     "iopub.status.busy": "2023-07-03T17:44:37.016518Z",
     "iopub.status.idle": "2023-07-03T17:44:37.022024Z",
     "shell.execute_reply": "2023-07-03T17:44:37.020841Z"
    },
    "papermill": {
     "duration": 0.053489,
     "end_time": "2023-07-03T17:44:37.025198",
     "exception": false,
     "start_time": "2023-07-03T17:44:36.971709",
     "status": "completed"
    },
    "tags": []
   },
   "outputs": [],
   "source": [
    "# clfs = {\n",
    "#     'SVC' : svc,\n",
    "#     'KN' : knc, \n",
    "#     'NB': mnb, \n",
    "#     'DT': dtc, \n",
    "#     'LR': lrc, \n",
    "#     'RF': rfc, \n",
    "#     'AdaBoost': abc, \n",
    "#     'BgC': bc, \n",
    "#     'ETC': etc,\n",
    "#     'GBDT':gbdt,\n",
    "#     'xgb':xgb\n",
    "# }"
   ]
  },
  {
   "cell_type": "code",
   "execution_count": 58,
   "id": "13790fac",
   "metadata": {
    "execution": {
     "iopub.execute_input": "2023-07-03T17:44:37.104214Z",
     "iopub.status.busy": "2023-07-03T17:44:37.102995Z",
     "iopub.status.idle": "2023-07-03T17:44:37.109778Z",
     "shell.execute_reply": "2023-07-03T17:44:37.108742Z"
    },
    "papermill": {
     "duration": 0.048506,
     "end_time": "2023-07-03T17:44:37.112285",
     "exception": false,
     "start_time": "2023-07-03T17:44:37.063779",
     "status": "completed"
    },
    "tags": []
   },
   "outputs": [],
   "source": [
    "from sklearn.metrics import precision_score,accuracy_score\n",
    "def train_classifier(clf,X_train,y_train,X_test,y_test):\n",
    "    clf.fit(X_train,y_train)\n",
    "    y_pred = clf.predict(X_test)\n",
    "    accuracy = accuracy_score(y_test,y_pred)\n",
    "    precision = precision_score(y_test,y_pred)\n",
    "    \n",
    "    return accuracy,precision"
   ]
  },
  {
   "cell_type": "code",
   "execution_count": 59,
   "id": "1970fbaa",
   "metadata": {
    "execution": {
     "iopub.execute_input": "2023-07-03T17:44:37.190243Z",
     "iopub.status.busy": "2023-07-03T17:44:37.189767Z",
     "iopub.status.idle": "2023-07-03T17:44:37.208604Z",
     "shell.execute_reply": "2023-07-03T17:44:37.207226Z"
    },
    "papermill": {
     "duration": 0.061712,
     "end_time": "2023-07-03T17:44:37.211243",
     "exception": false,
     "start_time": "2023-07-03T17:44:37.149531",
     "status": "completed"
    },
    "tags": []
   },
   "outputs": [],
   "source": [
    "X_new = X_new.drop(columns=[col for col in X_new.columns if pd.isna(col)], axis=1)\n",
    "X_new_test = X_new_test.drop(columns=[col for col in X_new_test.columns if pd.isna(col)], axis=1)\n"
   ]
  },
  {
   "cell_type": "code",
   "execution_count": 60,
   "id": "3c15a69f",
   "metadata": {
    "execution": {
     "iopub.execute_input": "2023-07-03T17:44:37.288193Z",
     "iopub.status.busy": "2023-07-03T17:44:37.287772Z",
     "iopub.status.idle": "2023-07-03T17:44:50.472263Z",
     "shell.execute_reply": "2023-07-03T17:44:50.469756Z"
    },
    "papermill": {
     "duration": 13.226807,
     "end_time": "2023-07-03T17:44:50.475079",
     "exception": false,
     "start_time": "2023-07-03T17:44:37.248272",
     "status": "completed"
    },
    "tags": []
   },
   "outputs": [
    {
     "name": "stdout",
     "output_type": "stream",
     "text": [
      "For  KN\n",
      "Accuracy -  0.7943076654443862\n",
      "Precision -  0.5565068493150684\n",
      "For  xgb\n",
      "Accuracy -  0.9442989348699145\n",
      "Precision -  0.9782833505687694\n",
      "For  cat\n",
      "Accuracy -  0.9427274314649904\n",
      "Precision -  0.9770833333333333\n"
     ]
    }
   ],
   "source": [
    "accuracy_scores = []\n",
    "precision_scores = []\n",
    "\n",
    "for name,clf in clfs.items():\n",
    "    \n",
    "    current_accuracy,current_precision = train_classifier(clf, X_new,y_train,X_new_test,y_test)\n",
    "    \n",
    "    print(\"For \",name)\n",
    "    print(\"Accuracy - \",current_accuracy)\n",
    "    print(\"Precision - \",current_precision)\n",
    "    \n",
    "    accuracy_scores.append(current_accuracy)\n",
    "    precision_scores.append(current_precision)"
   ]
  },
  {
   "cell_type": "code",
   "execution_count": null,
   "id": "434d327a",
   "metadata": {
    "execution": {
     "iopub.execute_input": "2023-07-03T17:44:50.552626Z",
     "iopub.status.busy": "2023-07-03T17:44:50.552122Z",
     "iopub.status.idle": "2023-07-03T17:45:02.618186Z",
     "shell.execute_reply": "2023-07-03T17:45:02.617228Z"
    },
    "papermill": {
     "duration": 12.107992,
     "end_time": "2023-07-03T17:45:02.620718",
     "exception": false,
     "start_time": "2023-07-03T17:44:50.512726",
     "status": "completed"
    },
    "tags": []
   },
   "outputs": [
    {
     "name": "stdout",
     "output_type": "stream",
     "text": [
      "For ensemble\n",
      "Accuracy -  0.9360921948664223\n",
      "Precision -  0.9943693693693694\n"
     ]
    }
   ],
   "source": [
    "from sklearn.ensemble import VotingClassifier\n",
    "from sklearn.neighbors import KNeighborsClassifier\n",
    "from xgboost import XGBClassifier\n",
    "from catboost import CatBoostClassifier\n",
    "from lightgbm import LGBMClassifier\n",
    "\n",
    "\n",
    "knn = KNeighborsClassifier()\n",
    "#xgb = XGBClassifier()\n",
    "cat = CatBoostClassifier(verbose=0)\n",
    "# lgb = LGBMClassifier()\n",
    "\n",
    "\n",
    "ensemble = VotingClassifier(estimators=[('knn', knn),  ('cat', cat), ('lgb', lgb)], voting='soft',verbose=0)\n",
    "ensemble_accuracy, ensemble_precision = train_classifier(ensemble, X_new, y_train, X_new_test, y_test)\n",
    "\n",
    "print(\"For ensemble\")\n",
    "print(\"Accuracy - \", ensemble_accuracy)\n",
    "print(\"Precision - \", ensemble_precision)\n"
   ]
  }
 ],
 "metadata": {
  "kernelspec": {
   "display_name": "Python 3",
   "language": "python",
   "name": "python3"
  },
  "language_info": {
   "codemirror_mode": {
    "name": "ipython",
    "version": 3
   },
   "file_extension": ".py",
   "mimetype": "text/x-python",
   "name": "python",
   "nbconvert_exporter": "python",
   "pygments_lexer": "ipython3",
   "version": "3.10.9"
  },
  "papermill": {
   "default_parameters": {},
   "duration": 3139.825099,
   "end_time": "2023-07-03T18:36:33.857477",
   "environment_variables": {},
   "exception": null,
   "input_path": "__notebook__.ipynb",
   "output_path": "__notebook__.ipynb",
   "parameters": {},
   "start_time": "2023-07-03T17:44:14.032378",
   "version": "2.4.0"
  },
  "widgets": {
   "application/vnd.jupyter.widget-state+json": {
    "state": {
     "06c1ff50ed9b45fa80be1fb9b290aaa3": {
      "model_module": "@jupyter-widgets/controls",
      "model_module_version": "1.5.0",
      "model_name": "ProgressStyleModel",
      "state": {
       "_model_module": "@jupyter-widgets/controls",
       "_model_module_version": "1.5.0",
       "_model_name": "ProgressStyleModel",
       "_view_count": null,
       "_view_module": "@jupyter-widgets/base",
       "_view_module_version": "1.2.0",
       "_view_name": "StyleView",
       "bar_color": null,
       "description_width": ""
      }
     },
     "159714a164d642f4ab819f0347cbb270": {
      "model_module": "@jupyter-widgets/controls",
      "model_module_version": "1.5.0",
      "model_name": "DescriptionStyleModel",
      "state": {
       "_model_module": "@jupyter-widgets/controls",
       "_model_module_version": "1.5.0",
       "_model_name": "DescriptionStyleModel",
       "_view_count": null,
       "_view_module": "@jupyter-widgets/base",
       "_view_module_version": "1.2.0",
       "_view_name": "StyleView",
       "description_width": ""
      }
     },
     "15a5ec7cfa3a45fbae2e15cc586d7b7a": {
      "model_module": "@jupyter-widgets/controls",
      "model_module_version": "1.5.0",
      "model_name": "FloatProgressModel",
      "state": {
       "_dom_classes": [],
       "_model_module": "@jupyter-widgets/controls",
       "_model_module_version": "1.5.0",
       "_model_name": "FloatProgressModel",
       "_view_count": null,
       "_view_module": "@jupyter-widgets/controls",
       "_view_module_version": "1.5.0",
       "_view_name": "ProgressView",
       "bar_style": "",
       "description": "",
       "description_tooltip": null,
       "layout": "IPY_MODEL_901f4aebb5a845258a8c3f2a90046989",
       "max": 69,
       "min": 0,
       "orientation": "horizontal",
       "style": "IPY_MODEL_06c1ff50ed9b45fa80be1fb9b290aaa3",
       "value": 69
      }
     },
     "25766d6966644bd1bca8d19c23a9ea66": {
      "model_module": "@jupyter-widgets/controls",
      "model_module_version": "1.5.0",
      "model_name": "HBoxModel",
      "state": {
       "_dom_classes": [],
       "_model_module": "@jupyter-widgets/controls",
       "_model_module_version": "1.5.0",
       "_model_name": "HBoxModel",
       "_view_count": null,
       "_view_module": "@jupyter-widgets/controls",
       "_view_module_version": "1.5.0",
       "_view_name": "HBoxView",
       "box_style": "",
       "children": [
        "IPY_MODEL_e2ab8f354d4a4736803d68848397a333",
        "IPY_MODEL_541b2cfcb55349d4932a1f7a401647c6",
        "IPY_MODEL_c0eafae49f8442ea8bc94354aae34499"
       ],
       "layout": "IPY_MODEL_99d3aa94a7084fe9810ab0709d9e0bbe"
      }
     },
     "28a35c031b0e4794b22071aef0577f07": {
      "model_module": "@jupyter-widgets/base",
      "model_module_version": "1.2.0",
      "model_name": "LayoutModel",
      "state": {
       "_model_module": "@jupyter-widgets/base",
       "_model_module_version": "1.2.0",
       "_model_name": "LayoutModel",
       "_view_count": null,
       "_view_module": "@jupyter-widgets/base",
       "_view_module_version": "1.2.0",
       "_view_name": "LayoutView",
       "align_content": null,
       "align_items": null,
       "align_self": null,
       "border": null,
       "bottom": null,
       "display": null,
       "flex": null,
       "flex_flow": null,
       "grid_area": null,
       "grid_auto_columns": null,
       "grid_auto_flow": null,
       "grid_auto_rows": null,
       "grid_column": null,
       "grid_gap": null,
       "grid_row": null,
       "grid_template_areas": null,
       "grid_template_columns": null,
       "grid_template_rows": null,
       "height": null,
       "justify_content": null,
       "justify_items": null,
       "left": null,
       "margin": null,
       "max_height": null,
       "max_width": null,
       "min_height": null,
       "min_width": null,
       "object_fit": null,
       "object_position": null,
       "order": null,
       "overflow": null,
       "overflow_x": null,
       "overflow_y": null,
       "padding": null,
       "right": null,
       "top": null,
       "visibility": null,
       "width": null
      }
     },
     "2f3ed98c1b694e66bb6625f7a9addc26": {
      "model_module": "@jupyter-widgets/base",
      "model_module_version": "1.2.0",
      "model_name": "LayoutModel",
      "state": {
       "_model_module": "@jupyter-widgets/base",
       "_model_module_version": "1.2.0",
       "_model_name": "LayoutModel",
       "_view_count": null,
       "_view_module": "@jupyter-widgets/base",
       "_view_module_version": "1.2.0",
       "_view_name": "LayoutView",
       "align_content": null,
       "align_items": null,
       "align_self": null,
       "border": null,
       "bottom": null,
       "display": null,
       "flex": null,
       "flex_flow": null,
       "grid_area": null,
       "grid_auto_columns": null,
       "grid_auto_flow": null,
       "grid_auto_rows": null,
       "grid_column": null,
       "grid_gap": null,
       "grid_row": null,
       "grid_template_areas": null,
       "grid_template_columns": null,
       "grid_template_rows": null,
       "height": null,
       "justify_content": null,
       "justify_items": null,
       "left": null,
       "margin": null,
       "max_height": null,
       "max_width": null,
       "min_height": null,
       "min_width": null,
       "object_fit": null,
       "object_position": null,
       "order": null,
       "overflow": null,
       "overflow_x": null,
       "overflow_y": null,
       "padding": null,
       "right": null,
       "top": null,
       "visibility": null,
       "width": null
      }
     },
     "4c274bcbf6ee49068ef26fb8f05813c0": {
      "model_module": "@jupyter-widgets/controls",
      "model_module_version": "1.5.0",
      "model_name": "HBoxModel",
      "state": {
       "_dom_classes": [],
       "_model_module": "@jupyter-widgets/controls",
       "_model_module_version": "1.5.0",
       "_model_name": "HBoxModel",
       "_view_count": null,
       "_view_module": "@jupyter-widgets/controls",
       "_view_module_version": "1.5.0",
       "_view_name": "HBoxView",
       "box_style": "",
       "children": [
        "IPY_MODEL_699e10d5c0704620b5f8df07e9c08745",
        "IPY_MODEL_15a5ec7cfa3a45fbae2e15cc586d7b7a",
        "IPY_MODEL_b7256cb3017d49bd993ef5acf3d715ae"
       ],
       "layout": "IPY_MODEL_5b94d4751e544c66af2a500e50d1f891"
      }
     },
     "50314285a21543ccaad033ecdb449be1": {
      "model_module": "@jupyter-widgets/controls",
      "model_module_version": "1.5.0",
      "model_name": "ProgressStyleModel",
      "state": {
       "_model_module": "@jupyter-widgets/controls",
       "_model_module_version": "1.5.0",
       "_model_name": "ProgressStyleModel",
       "_view_count": null,
       "_view_module": "@jupyter-widgets/base",
       "_view_module_version": "1.2.0",
       "_view_name": "StyleView",
       "bar_color": null,
       "description_width": ""
      }
     },
     "541b2cfcb55349d4932a1f7a401647c6": {
      "model_module": "@jupyter-widgets/controls",
      "model_module_version": "1.5.0",
      "model_name": "FloatProgressModel",
      "state": {
       "_dom_classes": [],
       "_model_module": "@jupyter-widgets/controls",
       "_model_module_version": "1.5.0",
       "_model_name": "FloatProgressModel",
       "_view_count": null,
       "_view_module": "@jupyter-widgets/controls",
       "_view_module_version": "1.5.0",
       "_view_name": "ProgressView",
       "bar_style": "",
       "description": "",
       "description_tooltip": null,
       "layout": "IPY_MODEL_c303f849512143e69d3c59ee772ce1ea",
       "max": 69,
       "min": 0,
       "orientation": "horizontal",
       "style": "IPY_MODEL_50314285a21543ccaad033ecdb449be1",
       "value": 69
      }
     },
     "5b44dd75b6c349148436f28c8249be3c": {
      "model_module": "@jupyter-widgets/base",
      "model_module_version": "1.2.0",
      "model_name": "LayoutModel",
      "state": {
       "_model_module": "@jupyter-widgets/base",
       "_model_module_version": "1.2.0",
       "_model_name": "LayoutModel",
       "_view_count": null,
       "_view_module": "@jupyter-widgets/base",
       "_view_module_version": "1.2.0",
       "_view_name": "LayoutView",
       "align_content": null,
       "align_items": null,
       "align_self": null,
       "border": null,
       "bottom": null,
       "display": null,
       "flex": null,
       "flex_flow": null,
       "grid_area": null,
       "grid_auto_columns": null,
       "grid_auto_flow": null,
       "grid_auto_rows": null,
       "grid_column": null,
       "grid_gap": null,
       "grid_row": null,
       "grid_template_areas": null,
       "grid_template_columns": null,
       "grid_template_rows": null,
       "height": null,
       "justify_content": null,
       "justify_items": null,
       "left": null,
       "margin": null,
       "max_height": null,
       "max_width": null,
       "min_height": null,
       "min_width": null,
       "object_fit": null,
       "object_position": null,
       "order": null,
       "overflow": null,
       "overflow_x": null,
       "overflow_y": null,
       "padding": null,
       "right": null,
       "top": null,
       "visibility": null,
       "width": null
      }
     },
     "5b94d4751e544c66af2a500e50d1f891": {
      "model_module": "@jupyter-widgets/base",
      "model_module_version": "1.2.0",
      "model_name": "LayoutModel",
      "state": {
       "_model_module": "@jupyter-widgets/base",
       "_model_module_version": "1.2.0",
       "_model_name": "LayoutModel",
       "_view_count": null,
       "_view_module": "@jupyter-widgets/base",
       "_view_module_version": "1.2.0",
       "_view_name": "LayoutView",
       "align_content": null,
       "align_items": null,
       "align_self": null,
       "border": null,
       "bottom": null,
       "display": null,
       "flex": null,
       "flex_flow": null,
       "grid_area": null,
       "grid_auto_columns": null,
       "grid_auto_flow": null,
       "grid_auto_rows": null,
       "grid_column": null,
       "grid_gap": null,
       "grid_row": null,
       "grid_template_areas": null,
       "grid_template_columns": null,
       "grid_template_rows": null,
       "height": null,
       "justify_content": null,
       "justify_items": null,
       "left": null,
       "margin": null,
       "max_height": null,
       "max_width": null,
       "min_height": null,
       "min_width": null,
       "object_fit": null,
       "object_position": null,
       "order": null,
       "overflow": null,
       "overflow_x": null,
       "overflow_y": null,
       "padding": null,
       "right": null,
       "top": null,
       "visibility": "hidden",
       "width": null
      }
     },
     "699e10d5c0704620b5f8df07e9c08745": {
      "model_module": "@jupyter-widgets/controls",
      "model_module_version": "1.5.0",
      "model_name": "HTMLModel",
      "state": {
       "_dom_classes": [],
       "_model_module": "@jupyter-widgets/controls",
       "_model_module_version": "1.5.0",
       "_model_name": "HTMLModel",
       "_view_count": null,
       "_view_module": "@jupyter-widgets/controls",
       "_view_module_version": "1.5.0",
       "_view_name": "HTMLView",
       "description": "",
       "description_tooltip": null,
       "layout": "IPY_MODEL_f9d959bd577e408c83f2a0172b955321",
       "placeholder": "​",
       "style": "IPY_MODEL_159714a164d642f4ab819f0347cbb270",
       "value": "Processing: 100%"
      }
     },
     "726511235b264c3e9a1db2b0e9212e7b": {
      "model_module": "@jupyter-widgets/base",
      "model_module_version": "1.2.0",
      "model_name": "LayoutModel",
      "state": {
       "_model_module": "@jupyter-widgets/base",
       "_model_module_version": "1.2.0",
       "_model_name": "LayoutModel",
       "_view_count": null,
       "_view_module": "@jupyter-widgets/base",
       "_view_module_version": "1.2.0",
       "_view_name": "LayoutView",
       "align_content": null,
       "align_items": null,
       "align_self": null,
       "border": null,
       "bottom": null,
       "display": null,
       "flex": null,
       "flex_flow": null,
       "grid_area": null,
       "grid_auto_columns": null,
       "grid_auto_flow": null,
       "grid_auto_rows": null,
       "grid_column": null,
       "grid_gap": null,
       "grid_row": null,
       "grid_template_areas": null,
       "grid_template_columns": null,
       "grid_template_rows": null,
       "height": null,
       "justify_content": null,
       "justify_items": null,
       "left": null,
       "margin": null,
       "max_height": null,
       "max_width": null,
       "min_height": null,
       "min_width": null,
       "object_fit": null,
       "object_position": null,
       "order": null,
       "overflow": null,
       "overflow_x": null,
       "overflow_y": null,
       "padding": null,
       "right": null,
       "top": null,
       "visibility": null,
       "width": null
      }
     },
     "72d0d3d774db48d0a87c138a9627429c": {
      "model_module": "@jupyter-widgets/controls",
      "model_module_version": "1.5.0",
      "model_name": "ToggleButtonsStyleModel",
      "state": {
       "_model_module": "@jupyter-widgets/controls",
       "_model_module_version": "1.5.0",
       "_model_name": "ToggleButtonsStyleModel",
       "_view_count": null,
       "_view_module": "@jupyter-widgets/base",
       "_view_module_version": "1.2.0",
       "_view_name": "StyleView",
       "button_width": "",
       "description_width": "",
       "font_weight": ""
      }
     },
     "7cd19f60d34a4ae5bc663c9ebfb637b9": {
      "model_module": "@jupyter-widgets/controls",
      "model_module_version": "1.5.0",
      "model_name": "DescriptionStyleModel",
      "state": {
       "_model_module": "@jupyter-widgets/controls",
       "_model_module_version": "1.5.0",
       "_model_name": "DescriptionStyleModel",
       "_view_count": null,
       "_view_module": "@jupyter-widgets/base",
       "_view_module_version": "1.2.0",
       "_view_name": "StyleView",
       "description_width": ""
      }
     },
     "8559fd70365a4b06acdafadf61980288": {
      "model_module": "@jupyter-widgets/base",
      "model_module_version": "1.2.0",
      "model_name": "LayoutModel",
      "state": {
       "_model_module": "@jupyter-widgets/base",
       "_model_module_version": "1.2.0",
       "_model_name": "LayoutModel",
       "_view_count": null,
       "_view_module": "@jupyter-widgets/base",
       "_view_module_version": "1.2.0",
       "_view_name": "LayoutView",
       "align_content": null,
       "align_items": null,
       "align_self": null,
       "border": null,
       "bottom": null,
       "display": null,
       "flex": null,
       "flex_flow": null,
       "grid_area": null,
       "grid_auto_columns": null,
       "grid_auto_flow": null,
       "grid_auto_rows": null,
       "grid_column": null,
       "grid_gap": null,
       "grid_row": null,
       "grid_template_areas": null,
       "grid_template_columns": null,
       "grid_template_rows": null,
       "height": null,
       "justify_content": null,
       "justify_items": null,
       "left": null,
       "margin": null,
       "max_height": null,
       "max_width": null,
       "min_height": null,
       "min_width": null,
       "object_fit": null,
       "object_position": null,
       "order": null,
       "overflow": null,
       "overflow_x": null,
       "overflow_y": null,
       "padding": null,
       "right": null,
       "top": null,
       "visibility": null,
       "width": null
      }
     },
     "8efd6925f8784e94b7592d4b182b711b": {
      "model_module": "@jupyter-widgets/controls",
      "model_module_version": "1.5.0",
      "model_name": "VBoxModel",
      "state": {
       "_dom_classes": [
        "widget-interact"
       ],
       "_model_module": "@jupyter-widgets/controls",
       "_model_module_version": "1.5.0",
       "_model_name": "VBoxModel",
       "_view_count": null,
       "_view_module": "@jupyter-widgets/controls",
       "_view_module_version": "1.5.0",
       "_view_name": "VBoxView",
       "box_style": "",
       "children": [
        "IPY_MODEL_ffa4bd892e364fa3b59468e74548aba2",
        "IPY_MODEL_b3b96907764641898a056a4e58b458b8"
       ],
       "layout": "IPY_MODEL_8559fd70365a4b06acdafadf61980288"
      }
     },
     "901f4aebb5a845258a8c3f2a90046989": {
      "model_module": "@jupyter-widgets/base",
      "model_module_version": "1.2.0",
      "model_name": "LayoutModel",
      "state": {
       "_model_module": "@jupyter-widgets/base",
       "_model_module_version": "1.2.0",
       "_model_name": "LayoutModel",
       "_view_count": null,
       "_view_module": "@jupyter-widgets/base",
       "_view_module_version": "1.2.0",
       "_view_name": "LayoutView",
       "align_content": null,
       "align_items": null,
       "align_self": null,
       "border": null,
       "bottom": null,
       "display": null,
       "flex": null,
       "flex_flow": null,
       "grid_area": null,
       "grid_auto_columns": null,
       "grid_auto_flow": null,
       "grid_auto_rows": null,
       "grid_column": null,
       "grid_gap": null,
       "grid_row": null,
       "grid_template_areas": null,
       "grid_template_columns": null,
       "grid_template_rows": null,
       "height": null,
       "justify_content": null,
       "justify_items": null,
       "left": null,
       "margin": null,
       "max_height": null,
       "max_width": null,
       "min_height": null,
       "min_width": null,
       "object_fit": null,
       "object_position": null,
       "order": null,
       "overflow": null,
       "overflow_x": null,
       "overflow_y": null,
       "padding": null,
       "right": null,
       "top": null,
       "visibility": null,
       "width": null
      }
     },
     "98c537eac7c143e690f3c70a17c0f747": {
      "model_module": "@jupyter-widgets/base",
      "model_module_version": "1.2.0",
      "model_name": "LayoutModel",
      "state": {
       "_model_module": "@jupyter-widgets/base",
       "_model_module_version": "1.2.0",
       "_model_name": "LayoutModel",
       "_view_count": null,
       "_view_module": "@jupyter-widgets/base",
       "_view_module_version": "1.2.0",
       "_view_name": "LayoutView",
       "align_content": null,
       "align_items": null,
       "align_self": null,
       "border": null,
       "bottom": null,
       "display": null,
       "flex": null,
       "flex_flow": null,
       "grid_area": null,
       "grid_auto_columns": null,
       "grid_auto_flow": null,
       "grid_auto_rows": null,
       "grid_column": null,
       "grid_gap": null,
       "grid_row": null,
       "grid_template_areas": null,
       "grid_template_columns": null,
       "grid_template_rows": null,
       "height": null,
       "justify_content": null,
       "justify_items": null,
       "left": null,
       "margin": null,
       "max_height": null,
       "max_width": null,
       "min_height": null,
       "min_width": null,
       "object_fit": null,
       "object_position": null,
       "order": null,
       "overflow": null,
       "overflow_x": null,
       "overflow_y": null,
       "padding": null,
       "right": null,
       "top": null,
       "visibility": null,
       "width": null
      }
     },
     "99d3aa94a7084fe9810ab0709d9e0bbe": {
      "model_module": "@jupyter-widgets/base",
      "model_module_version": "1.2.0",
      "model_name": "LayoutModel",
      "state": {
       "_model_module": "@jupyter-widgets/base",
       "_model_module_version": "1.2.0",
       "_model_name": "LayoutModel",
       "_view_count": null,
       "_view_module": "@jupyter-widgets/base",
       "_view_module_version": "1.2.0",
       "_view_name": "LayoutView",
       "align_content": null,
       "align_items": null,
       "align_self": null,
       "border": null,
       "bottom": null,
       "display": null,
       "flex": null,
       "flex_flow": null,
       "grid_area": null,
       "grid_auto_columns": null,
       "grid_auto_flow": null,
       "grid_auto_rows": null,
       "grid_column": null,
       "grid_gap": null,
       "grid_row": null,
       "grid_template_areas": null,
       "grid_template_columns": null,
       "grid_template_rows": null,
       "height": null,
       "justify_content": null,
       "justify_items": null,
       "left": null,
       "margin": null,
       "max_height": null,
       "max_width": null,
       "min_height": null,
       "min_width": null,
       "object_fit": null,
       "object_position": null,
       "order": null,
       "overflow": null,
       "overflow_x": null,
       "overflow_y": null,
       "padding": null,
       "right": null,
       "top": null,
       "visibility": "hidden",
       "width": null
      }
     },
     "b03ced7a7a07410a93eb5759461650eb": {
      "model_module": "@jupyter-widgets/controls",
      "model_module_version": "1.5.0",
      "model_name": "DescriptionStyleModel",
      "state": {
       "_model_module": "@jupyter-widgets/controls",
       "_model_module_version": "1.5.0",
       "_model_name": "DescriptionStyleModel",
       "_view_count": null,
       "_view_module": "@jupyter-widgets/base",
       "_view_module_version": "1.2.0",
       "_view_name": "StyleView",
       "description_width": ""
      }
     },
     "b3b96907764641898a056a4e58b458b8": {
      "model_module": "@jupyter-widgets/output",
      "model_module_version": "1.0.0",
      "model_name": "OutputModel",
      "state": {
       "_dom_classes": [],
       "_model_module": "@jupyter-widgets/output",
       "_model_module_version": "1.0.0",
       "_model_name": "OutputModel",
       "_view_count": null,
       "_view_module": "@jupyter-widgets/output",
       "_view_module_version": "1.0.0",
       "_view_name": "OutputView",
       "layout": "IPY_MODEL_28a35c031b0e4794b22071aef0577f07",
       "msg_id": "",
       "outputs": [
        {
         "data": {
          "image/png": "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",
          "text/plain": "<Figure size 2200x600 with 1 Axes>"
         },
         "metadata": {},
         "output_type": "display_data"
        }
       ]
      }
     },
     "b539d3e149bf4743a4c7768dde9da30b": {
      "model_module": "@jupyter-widgets/controls",
      "model_module_version": "1.5.0",
      "model_name": "DescriptionStyleModel",
      "state": {
       "_model_module": "@jupyter-widgets/controls",
       "_model_module_version": "1.5.0",
       "_model_name": "DescriptionStyleModel",
       "_view_count": null,
       "_view_module": "@jupyter-widgets/base",
       "_view_module_version": "1.2.0",
       "_view_name": "StyleView",
       "description_width": ""
      }
     },
     "b7256cb3017d49bd993ef5acf3d715ae": {
      "model_module": "@jupyter-widgets/controls",
      "model_module_version": "1.5.0",
      "model_name": "HTMLModel",
      "state": {
       "_dom_classes": [],
       "_model_module": "@jupyter-widgets/controls",
       "_model_module_version": "1.5.0",
       "_model_name": "HTMLModel",
       "_view_count": null,
       "_view_module": "@jupyter-widgets/controls",
       "_view_module_version": "1.5.0",
       "_view_name": "HTMLView",
       "description": "",
       "description_tooltip": null,
       "layout": "IPY_MODEL_5b44dd75b6c349148436f28c8249be3c",
       "placeholder": "​",
       "style": "IPY_MODEL_b539d3e149bf4743a4c7768dde9da30b",
       "value": " 69/69 [06:19&lt;00:00,  5.90s/it]"
      }
     },
     "c0eafae49f8442ea8bc94354aae34499": {
      "model_module": "@jupyter-widgets/controls",
      "model_module_version": "1.5.0",
      "model_name": "HTMLModel",
      "state": {
       "_dom_classes": [],
       "_model_module": "@jupyter-widgets/controls",
       "_model_module_version": "1.5.0",
       "_model_name": "HTMLModel",
       "_view_count": null,
       "_view_module": "@jupyter-widgets/controls",
       "_view_module_version": "1.5.0",
       "_view_name": "HTMLView",
       "description": "",
       "description_tooltip": null,
       "layout": "IPY_MODEL_98c537eac7c143e690f3c70a17c0f747",
       "placeholder": "​",
       "style": "IPY_MODEL_7cd19f60d34a4ae5bc663c9ebfb637b9",
       "value": " 69/69 [07:22&lt;00:00,  6.40s/it]"
      }
     },
     "c303f849512143e69d3c59ee772ce1ea": {
      "model_module": "@jupyter-widgets/base",
      "model_module_version": "1.2.0",
      "model_name": "LayoutModel",
      "state": {
       "_model_module": "@jupyter-widgets/base",
       "_model_module_version": "1.2.0",
       "_model_name": "LayoutModel",
       "_view_count": null,
       "_view_module": "@jupyter-widgets/base",
       "_view_module_version": "1.2.0",
       "_view_name": "LayoutView",
       "align_content": null,
       "align_items": null,
       "align_self": null,
       "border": null,
       "bottom": null,
       "display": null,
       "flex": null,
       "flex_flow": null,
       "grid_area": null,
       "grid_auto_columns": null,
       "grid_auto_flow": null,
       "grid_auto_rows": null,
       "grid_column": null,
       "grid_gap": null,
       "grid_row": null,
       "grid_template_areas": null,
       "grid_template_columns": null,
       "grid_template_rows": null,
       "height": null,
       "justify_content": null,
       "justify_items": null,
       "left": null,
       "margin": null,
       "max_height": null,
       "max_width": null,
       "min_height": null,
       "min_width": null,
       "object_fit": null,
       "object_position": null,
       "order": null,
       "overflow": null,
       "overflow_x": null,
       "overflow_y": null,
       "padding": null,
       "right": null,
       "top": null,
       "visibility": null,
       "width": null
      }
     },
     "e2ab8f354d4a4736803d68848397a333": {
      "model_module": "@jupyter-widgets/controls",
      "model_module_version": "1.5.0",
      "model_name": "HTMLModel",
      "state": {
       "_dom_classes": [],
       "_model_module": "@jupyter-widgets/controls",
       "_model_module_version": "1.5.0",
       "_model_name": "HTMLModel",
       "_view_count": null,
       "_view_module": "@jupyter-widgets/controls",
       "_view_module_version": "1.5.0",
       "_view_name": "HTMLView",
       "description": "",
       "description_tooltip": null,
       "layout": "IPY_MODEL_726511235b264c3e9a1db2b0e9212e7b",
       "placeholder": "​",
       "style": "IPY_MODEL_b03ced7a7a07410a93eb5759461650eb",
       "value": "Processing: 100%"
      }
     },
     "f9d959bd577e408c83f2a0172b955321": {
      "model_module": "@jupyter-widgets/base",
      "model_module_version": "1.2.0",
      "model_name": "LayoutModel",
      "state": {
       "_model_module": "@jupyter-widgets/base",
       "_model_module_version": "1.2.0",
       "_model_name": "LayoutModel",
       "_view_count": null,
       "_view_module": "@jupyter-widgets/base",
       "_view_module_version": "1.2.0",
       "_view_name": "LayoutView",
       "align_content": null,
       "align_items": null,
       "align_self": null,
       "border": null,
       "bottom": null,
       "display": null,
       "flex": null,
       "flex_flow": null,
       "grid_area": null,
       "grid_auto_columns": null,
       "grid_auto_flow": null,
       "grid_auto_rows": null,
       "grid_column": null,
       "grid_gap": null,
       "grid_row": null,
       "grid_template_areas": null,
       "grid_template_columns": null,
       "grid_template_rows": null,
       "height": null,
       "justify_content": null,
       "justify_items": null,
       "left": null,
       "margin": null,
       "max_height": null,
       "max_width": null,
       "min_height": null,
       "min_width": null,
       "object_fit": null,
       "object_position": null,
       "order": null,
       "overflow": null,
       "overflow_x": null,
       "overflow_y": null,
       "padding": null,
       "right": null,
       "top": null,
       "visibility": null,
       "width": null
      }
     },
     "ffa4bd892e364fa3b59468e74548aba2": {
      "model_module": "@jupyter-widgets/controls",
      "model_module_version": "1.5.0",
      "model_name": "ToggleButtonsModel",
      "state": {
       "_dom_classes": [],
       "_model_module": "@jupyter-widgets/controls",
       "_model_module_version": "1.5.0",
       "_model_name": "ToggleButtonsModel",
       "_options_labels": [
        "Pipeline Plot",
        "Hyperparameters",
        "AUC",
        "Confusion Matrix",
        "Threshold",
        "Precision Recall",
        "Prediction Error",
        "Class Report",
        "Feature Selection",
        "Learning Curve",
        "Manifold Learning",
        "Calibration Curve",
        "Validation Curve",
        "Dimensions",
        "Feature Importance",
        "Feature Importance (All)",
        "Decision Boundary",
        "Lift Chart",
        "Gain Chart",
        "Decision Tree",
        "KS Statistic Plot"
       ],
       "_view_count": null,
       "_view_module": "@jupyter-widgets/controls",
       "_view_module_version": "1.5.0",
       "_view_name": "ToggleButtonsView",
       "button_style": "",
       "description": "Plot Type:",
       "description_tooltip": null,
       "disabled": false,
       "icons": [
        ""
       ],
       "index": 0,
       "layout": "IPY_MODEL_2f3ed98c1b694e66bb6625f7a9addc26",
       "style": "IPY_MODEL_72d0d3d774db48d0a87c138a9627429c",
       "tooltips": []
      }
     }
    },
    "version_major": 2,
    "version_minor": 0
   }
  }
 },
 "nbformat": 4,
 "nbformat_minor": 5
}
