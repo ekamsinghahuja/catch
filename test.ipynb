{
 "cells": [
  {
   "cell_type": "code",
   "execution_count": 1,
   "metadata": {},
   "outputs": [],
   "source": [
    "import pandas as pd\n",
    "import numpy as np\n",
    "import pickle\n",
    "\n",
    "\n",
    "ohe = pickle.load(open('ohe.pkl','rb'))\n",
    "scaler_normal = pickle.load(open('scl.pkl','rb'))\n",
    "model = pickle.load(open('model_creditease.pkl','rb'))\n",
    "da = pickle.load(open('da.pkl','rb'))\n",
    "\n",
    "merge_ohe_col = np.concatenate((ohe.categories_[0], \n",
    "                ohe.categories_[1],\n",
    "                ohe.categories_[2],\n",
    "                ohe.categories_[3],\n",
    "                ohe.categories_[4],\n",
    "                ))\n",
    "\n",
    "def clean_data(data_point):\n",
    "    data_point_as_frame = data_point\n",
    "    \n",
    "    #grouping data\n",
    "    data_point_as_frame['age_group'] = pd.cut(data_point_as_frame['person_age'],bins=[20, 26, 36, 46, 56, 66],labels=['20-25', '26-35', '36-45', '46-55', '56-65'])\n",
    "    data_point_as_frame['income_group'] = pd.cut(data_point_as_frame['person_income'],bins=[0, 25000, 50000, 75000, 100000, float('inf')],labels=['low', 'low-middle', 'middle', 'high-middle', 'high'])\n",
    "    data_point_as_frame['loan_amount_group'] = pd.cut(data_point_as_frame['loan_amnt'],bins=[0, 5000, 10000, 15000, float('inf')],labels=['small', 'medium', 'large', 'very large'])\n",
    "    \n",
    "    #ratios\n",
    "    # Create loan-to-income ratio\n",
    "    data_point_as_frame['loan_to_income_ratio'] = data_point_as_frame['loan_amnt'] / data_point_as_frame['person_income']\n",
    "\n",
    "    # Create loan-to-employment length ratio\n",
    "    data_point_as_frame['loan_to_emp_length_ratio'] =  data_point_as_frame['person_emp_length']/ data_point_as_frame['loan_amnt'] \n",
    "\n",
    "    # Create interest rate-to-loan amount ratio\n",
    "    data_point_as_frame['int_rate_to_loan_amt_ratio'] = data_point_as_frame['loan_int_rate'] / data_point_as_frame['loan_amnt']\n",
    "    \n",
    "    drop_colums = ['cb_person_cred_hist_length','cb_person_default_on_file','loan_grade']\n",
    "    scale_cols = ['person_income','person_age','person_emp_length', 'loan_amnt','loan_int_rate','loan_percent_income','loan_to_income_ratio', 'loan_to_emp_length_ratio',\n",
    "        'int_rate_to_loan_amt_ratio']\n",
    "    ohe_colums = [ 'person_home_ownership','loan_intent','income_group','age_group','loan_amount_group',]\n",
    "    \n",
    "    \n",
    "    col_list = ['person_age',#\n",
    "    'person_income',#\n",
    "    'person_home_ownership',#\n",
    "    'person_emp_length',#\n",
    "    'loan_intent', #\n",
    "    'loan_grade',#\n",
    "    'loan_amnt',#\n",
    "    'loan_int_rate',#\n",
    "    'loan_status',#\n",
    "    'loan_percent_income',#\n",
    "    'cb_person_default_on_file',#\n",
    "    'cb_person_cred_hist_length',\n",
    "    'age_group','income_group','loan_amount_group']\n",
    "    \n",
    "    # merge_ohe_col = np.concatenate((ohe.categories_[0], \n",
    "    #             ohe.categories_[1],\n",
    "    #             ohe.categories_[2],\n",
    "    #             ohe.categories_[3],\n",
    "    #             ohe.categories_[4],\n",
    "    #             ohe.categories_[5],\n",
    "    #             ohe.categories_[6]))\n",
    "    \n",
    "    #drop\n",
    "    \n",
    "    \n",
    "    #one hot\n",
    "    ohe_data = pd.DataFrame(ohe.transform(data_point_as_frame[ohe_colums]).toarray(), columns=merge_ohe_col)\n",
    "    \n",
    "    \n",
    "    data_point_as_frame_new = pd.concat([ohe_data, data_point_as_frame], axis=1)\n",
    "    data_point_as_frame_new = data_point_as_frame_new.drop(ohe_colums, axis=1)\n",
    "    data_point_as_frame_new[scale_cols] = scaler_normal.transform(data_point_as_frame_new[scale_cols])\n",
    "    \n",
    "    data_point_as_frame_new.columns = data_point_as_frame_new.columns.astype(str)\n",
    "    data_point_as_frame_new = data_point_as_frame_new.drop(['nan'], axis=1)\n",
    "    return data_point_as_frame_new\n",
    "\n",
    "\n",
    "import pandas as pd\n",
    "from scipy.spatial.distance import cdist\n",
    "\n",
    "def fun(d):\n",
    "    \n",
    "    df = pd.DataFrame(d, index=[0])\n",
    "    df = clean_data(df)\n",
    "    da2 = da[da['loan_status']==0]\n",
    "    da2 = da2.drop(['loan_status'],axis=1)\n",
    "    da2.reset_index(inplace=True)\n",
    "    da2=da2.drop(['index'],axis=1)\n",
    "    da3 = clean_data(da2)\n",
    "    distances = cdist(da3 , df)\n",
    "    nearest_index = distances.argmin()\n",
    "    return da2.iloc[nearest_index]\n",
    "\n",
    "\n",
    "\n",
    "def in_put(d):\n",
    "    # types=['int64',\n",
    "    # 'int64',\n",
    "    # 'object',\n",
    "    # 'float64',\n",
    "    # 'object',\n",
    "    # 'object',\n",
    "    # 'int64',\n",
    "    # 'float64',\n",
    "    # 'int64',\n",
    "    # 'float64',\n",
    "    # 'object',\n",
    "    # 'int64']\n",
    "    \n",
    "    df = pd.DataFrame(d, index=[0])\n",
    "    # df = df.astype(dict(zip(df.columns, types)))\n",
    "    \n",
    "    \n",
    "    df_new = clean_data(df)\n",
    "    return model.predict(df_new),model.predict_proba(df_new),fun(d)\n",
    "    \n",
    "\n",
    "\n",
    "\n",
    "\n",
    "\n",
    "\n",
    "\n",
    "\n",
    "\n"
   ]
  },
  {
   "cell_type": "code",
   "execution_count": 2,
   "metadata": {},
   "outputs": [],
   "source": [
    "d = {'person_age': 21,\n",
    " 'person_income': 9600,\n",
    " 'person_home_ownership': 'OWN',\n",
    " 'person_emp_length': 5.0,\n",
    " 'loan_intent': 'EDUCATION',\n",
    "#  'loan_grade': 'B',\n",
    " 'loan_amnt': 1000,\n",
    " 'loan_int_rate': 11.14,\n",
    " 'loan_percent_income': 0.1,\n",
    "#  'cb_person_default_on_file': 'N',\n",
    "#  'cb_person_cred_hist_length': 2\n",
    " }\n"
   ]
  },
  {
   "cell_type": "code",
   "execution_count": 4,
   "metadata": {},
   "outputs": [],
   "source": [
    "val = in_put(d)"
   ]
  },
  {
   "cell_type": "code",
   "execution_count": 7,
   "metadata": {},
   "outputs": [
    {
     "data": {
      "text/plain": [
       "0"
      ]
     },
     "execution_count": 7,
     "metadata": {},
     "output_type": "execute_result"
    }
   ],
   "source": [
    "prediction = val[0][0]"
   ]
  },
  {
   "cell_type": "code",
   "execution_count": 15,
   "metadata": {},
   "outputs": [
    {
     "data": {
      "text/plain": [
       "0.9600176148881326"
      ]
     },
     "execution_count": 15,
     "metadata": {},
     "output_type": "execute_result"
    }
   ],
   "source": [
    "val[1][0][0]"
   ]
  },
  {
   "cell_type": "code",
   "execution_count": 16,
   "metadata": {},
   "outputs": [],
   "source": [
    "nei = val[2]"
   ]
  },
  {
   "cell_type": "code",
   "execution_count": 21,
   "metadata": {},
   "outputs": [
    {
     "data": {
      "text/plain": [
       "person_age                           21\n",
       "person_income                      9600\n",
       "person_home_ownership               OWN\n",
       "person_emp_length                   5.0\n",
       "loan_intent                   EDUCATION\n",
       "loan_amnt                          1000\n",
       "loan_int_rate                     11.14\n",
       "loan_percent_income                 0.1\n",
       "age_group                         20-25\n",
       "income_group                        low\n",
       "loan_amount_group                 small\n",
       "loan_to_income_ratio           0.104167\n",
       "loan_to_emp_length_ratio          0.005\n",
       "int_rate_to_loan_amt_ratio      0.01114\n",
       "Name: 0, dtype: object"
      ]
     },
     "execution_count": 21,
     "metadata": {},
     "output_type": "execute_result"
    }
   ],
   "source": [
    "nei"
   ]
  },
  {
   "cell_type": "code",
   "execution_count": null,
   "metadata": {},
   "outputs": [],
   "source": [
    "\n",
    "\n",
    "st.subheader(f' - {nei[0]}')\n"
   ]
  },
  {
   "cell_type": "code",
   "execution_count": null,
   "metadata": {},
   "outputs": [],
   "source": [
    "prediction = val[0][0]\n",
    "if (prediction==0):\n",
    "    st.header(\"Congo Loan Approved\")\n",
    "else:\n",
    "    st.header(\"Sorry Loan Not Approved\")\n",
    "    "
   ]
  }
 ],
 "metadata": {
  "kernelspec": {
   "display_name": "base",
   "language": "python",
   "name": "python3"
  },
  "language_info": {
   "codemirror_mode": {
    "name": "ipython",
    "version": 3
   },
   "file_extension": ".py",
   "mimetype": "text/x-python",
   "name": "python",
   "nbconvert_exporter": "python",
   "pygments_lexer": "ipython3",
   "version": "3.10.9"
  },
  "orig_nbformat": 4
 },
 "nbformat": 4,
 "nbformat_minor": 2
}
